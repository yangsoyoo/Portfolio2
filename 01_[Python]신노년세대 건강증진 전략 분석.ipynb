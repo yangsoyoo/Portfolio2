{
 "cells": [
  {
   "cell_type": "markdown",
   "id": "34d5760c",
   "metadata": {},
   "source": [
    "# 👩‍💻 개인 프로젝트(기여도 100%)"
   ]
  },
  {
   "cell_type": "markdown",
   "id": "6ebda586",
   "metadata": {},
   "source": [
    "## 💡신노년세대 유형별 건강증진 전략이 어떻게 달라야 하는지 분석\n",
    "## 💡복지 정책 및 스포츠 산업을 위한 마케팅 전략 제시"
   ]
  },
  {
   "cell_type": "markdown",
   "id": "2ef138f1",
   "metadata": {},
   "source": [
    "# 1. 배경"
   ]
  },
  {
   "cell_type": "markdown",
   "id": "5d22d0af",
   "metadata": {},
   "source": [
    "<img src=\"./newold.png\" width=\"80%\" align=\"left\"></img><br/>"
   ]
  },
  {
   "cell_type": "markdown",
   "id": "b6594e90",
   "metadata": {},
   "source": [
    "# 2. 활용 데이터 - 국민생활체육조사(2019)\n",
    "\n",
    "- 국민들의 생활체육 참여 실태와 요구에 대한 설문조사 내용\n",
    "- 우리나라 국민 9,000명을 대상으로 수집\n",
    "- 지역별, 도시규모별, 성별, 연령별, 학력별, 직업별, 소득별 자료 함께 제공\n",
    "- 코로나19의 영향을 배제하기 위해 2019년 자료 사용"
   ]
  },
  {
   "cell_type": "markdown",
   "id": "b95f6977",
   "metadata": {},
   "source": [
    "# 3. 라이브러리 임포트"
   ]
  },
  {
   "cell_type": "code",
   "execution_count": 1,
   "id": "9011f397",
   "metadata": {},
   "outputs": [],
   "source": [
    "import pandas as pd\n",
    "import numpy as np\n",
    "from matplotlib import pyplot as plt\n",
    "import seaborn as sns\n",
    "sns.set_palette(sns.color_palette('husl'))                     # 그래프 컬러 지정\n",
    "from survey import survey                                      # 설문조사 결과 시각화 함수\n",
    "import cv2\n",
    "\n",
    "from sklearn.preprocessing import StandardScaler, normalize\n",
    "from sklearn.cluster import KMeans\n",
    "from visualize import visualize_silhouette\n",
    "\n",
    "import warnings\n",
    "warnings.filterwarnings('ignore')"
   ]
  },
  {
   "cell_type": "markdown",
   "id": "053ce058",
   "metadata": {},
   "source": [
    "# 4. 데이터 전처리"
   ]
  },
  {
   "cell_type": "code",
   "execution_count": 2,
   "id": "5f5bf5ab",
   "metadata": {},
   "outputs": [
    {
     "data": {
      "text/html": [
       "<div>\n",
       "<style scoped>\n",
       "    .dataframe tbody tr th:only-of-type {\n",
       "        vertical-align: middle;\n",
       "    }\n",
       "\n",
       "    .dataframe tbody tr th {\n",
       "        vertical-align: top;\n",
       "    }\n",
       "\n",
       "    .dataframe thead th {\n",
       "        text-align: right;\n",
       "    }\n",
       "</style>\n",
       "<table border=\"1\" class=\"dataframe\">\n",
       "  <thead>\n",
       "    <tr style=\"text-align: right;\">\n",
       "      <th></th>\n",
       "      <th>ID</th>\n",
       "      <th>조사구번호</th>\n",
       "      <th>시도</th>\n",
       "      <th>동읍면부</th>\n",
       "      <th>시군구</th>\n",
       "      <th>읍면동</th>\n",
       "      <th>HTYPE</th>\n",
       "      <th>SEX</th>\n",
       "      <th>BIRTH</th>\n",
       "      <th>AGE</th>\n",
       "      <th>...</th>\n",
       "      <th>FAM</th>\n",
       "      <th>FAM_ETC</th>\n",
       "      <th>CHI</th>\n",
       "      <th>INC</th>\n",
       "      <th>IINC</th>\n",
       "      <th>JOB</th>\n",
       "      <th>JOB11</th>\n",
       "      <th>JOB12</th>\n",
       "      <th>JOB12_ETC</th>\n",
       "      <th>WT</th>\n",
       "    </tr>\n",
       "  </thead>\n",
       "  <tbody>\n",
       "    <tr>\n",
       "      <th>0</th>\n",
       "      <td>1</td>\n",
       "      <td>11200682571</td>\n",
       "      <td>01. 서울특별시</td>\n",
       "      <td>1. 동부</td>\n",
       "      <td>동작구</td>\n",
       "      <td>대방동</td>\n",
       "      <td>1</td>\n",
       "      <td>1</td>\n",
       "      <td>200205</td>\n",
       "      <td>17</td>\n",
       "      <td>...</td>\n",
       "      <td>3</td>\n",
       "      <td>#NULL!</td>\n",
       "      <td>1</td>\n",
       "      <td>490</td>\n",
       "      <td>9</td>\n",
       "      <td>2</td>\n",
       "      <td>#NULL!</td>\n",
       "      <td>2</td>\n",
       "      <td>NaN</td>\n",
       "      <td>6833.2</td>\n",
       "    </tr>\n",
       "    <tr>\n",
       "      <th>1</th>\n",
       "      <td>2</td>\n",
       "      <td>11240641641</td>\n",
       "      <td>01. 서울특별시</td>\n",
       "      <td>1. 동부</td>\n",
       "      <td>송파구</td>\n",
       "      <td>삼전동</td>\n",
       "      <td>1</td>\n",
       "      <td>1</td>\n",
       "      <td>200209</td>\n",
       "      <td>17</td>\n",
       "      <td>...</td>\n",
       "      <td>4</td>\n",
       "      <td>#NULL!</td>\n",
       "      <td>1</td>\n",
       "      <td>500</td>\n",
       "      <td>10</td>\n",
       "      <td>2</td>\n",
       "      <td>#NULL!</td>\n",
       "      <td>2</td>\n",
       "      <td>NaN</td>\n",
       "      <td>6833.2</td>\n",
       "    </tr>\n",
       "  </tbody>\n",
       "</table>\n",
       "<p>2 rows × 225 columns</p>\n",
       "</div>"
      ],
      "text/plain": [
       "   ID        조사구번호         시도   동읍면부  시군구  읍면동  HTYPE  SEX   BIRTH  AGE  ...  \\\n",
       "0   1  11200682571  01. 서울특별시  1. 동부  동작구  대방동      1    1  200205   17  ...   \n",
       "1   2  11240641641  01. 서울특별시  1. 동부  송파구  삼전동      1    1  200209   17  ...   \n",
       "\n",
       "   FAM  FAM_ETC CHI  INC  IINC JOB   JOB11  JOB12  JOB12_ETC      WT  \n",
       "0    3   #NULL!   1  490     9   2  #NULL!      2        NaN  6833.2  \n",
       "1    4   #NULL!   1  500    10   2  #NULL!      2        NaN  6833.2  \n",
       "\n",
       "[2 rows x 225 columns]"
      ]
     },
     "execution_count": 2,
     "metadata": {},
     "output_type": "execute_result"
    }
   ],
   "source": [
    "# 설문조사 데이터 불러오기\n",
    "\n",
    "df = pd.read_csv('./data/국민생활체육조사_2019.csv', header=1, low_memory=False)\n",
    "df.head(2)"
   ]
  },
  {
   "cell_type": "code",
   "execution_count": 3,
   "id": "09b42078",
   "metadata": {},
   "outputs": [
    {
     "data": {
      "text/html": [
       "<div>\n",
       "<style scoped>\n",
       "    .dataframe tbody tr th:only-of-type {\n",
       "        vertical-align: middle;\n",
       "    }\n",
       "\n",
       "    .dataframe tbody tr th {\n",
       "        vertical-align: top;\n",
       "    }\n",
       "\n",
       "    .dataframe thead th {\n",
       "        text-align: right;\n",
       "    }\n",
       "</style>\n",
       "<table border=\"1\" class=\"dataframe\">\n",
       "  <thead>\n",
       "    <tr style=\"text-align: right;\">\n",
       "      <th></th>\n",
       "      <th>코드값</th>\n",
       "      <th>구분</th>\n",
       "      <th>코드명</th>\n",
       "    </tr>\n",
       "  </thead>\n",
       "  <tbody>\n",
       "    <tr>\n",
       "      <th>0</th>\n",
       "      <td>101</td>\n",
       "      <td>공공체육시설</td>\n",
       "      <td>골프연습장</td>\n",
       "    </tr>\n",
       "    <tr>\n",
       "      <th>1</th>\n",
       "      <td>102</td>\n",
       "      <td>공공체육시설</td>\n",
       "      <td>하키장</td>\n",
       "    </tr>\n",
       "    <tr>\n",
       "      <th>2</th>\n",
       "      <td>103</td>\n",
       "      <td>공공체육시설</td>\n",
       "      <td>국궁장</td>\n",
       "    </tr>\n",
       "    <tr>\n",
       "      <th>3</th>\n",
       "      <td>104</td>\n",
       "      <td>공공체육시설</td>\n",
       "      <td>당구장</td>\n",
       "    </tr>\n",
       "    <tr>\n",
       "      <th>4</th>\n",
       "      <td>105</td>\n",
       "      <td>공공체육시설</td>\n",
       "      <td>롤러스케이트장</td>\n",
       "    </tr>\n",
       "  </tbody>\n",
       "</table>\n",
       "</div>"
      ],
      "text/plain": [
       "   코드값      구분      코드명\n",
       "0  101  공공체육시설    골프연습장\n",
       "1  102  공공체육시설      하키장\n",
       "2  103  공공체육시설     국궁장 \n",
       "3  104  공공체육시설      당구장\n",
       "4  105  공공체육시설  롤러스케이트장"
      ]
     },
     "execution_count": 3,
     "metadata": {},
     "output_type": "execute_result"
    }
   ],
   "source": [
    "# 체육시설 데이터 불러오기\n",
    "\n",
    "facility = pd.read_csv('./data/facility.csv')\n",
    "facility.head()"
   ]
  },
  {
   "cell_type": "code",
   "execution_count": 4,
   "id": "09c77b66",
   "metadata": {},
   "outputs": [
    {
     "data": {
      "text/html": [
       "<div>\n",
       "<style scoped>\n",
       "    .dataframe tbody tr th:only-of-type {\n",
       "        vertical-align: middle;\n",
       "    }\n",
       "\n",
       "    .dataframe tbody tr th {\n",
       "        vertical-align: top;\n",
       "    }\n",
       "\n",
       "    .dataframe thead th {\n",
       "        text-align: right;\n",
       "    }\n",
       "</style>\n",
       "<table border=\"1\" class=\"dataframe\">\n",
       "  <thead>\n",
       "    <tr style=\"text-align: right;\">\n",
       "      <th></th>\n",
       "      <th>코드값</th>\n",
       "      <th>코드명</th>\n",
       "    </tr>\n",
       "  </thead>\n",
       "  <tbody>\n",
       "    <tr>\n",
       "      <th>0</th>\n",
       "      <td>101</td>\n",
       "      <td>게이트볼</td>\n",
       "    </tr>\n",
       "    <tr>\n",
       "      <th>1</th>\n",
       "      <td>102</td>\n",
       "      <td>골프</td>\n",
       "    </tr>\n",
       "    <tr>\n",
       "      <th>2</th>\n",
       "      <td>103</td>\n",
       "      <td>농구</td>\n",
       "    </tr>\n",
       "    <tr>\n",
       "      <th>3</th>\n",
       "      <td>104</td>\n",
       "      <td>배구</td>\n",
       "    </tr>\n",
       "    <tr>\n",
       "      <th>4</th>\n",
       "      <td>105</td>\n",
       "      <td>럭비, 미식축구</td>\n",
       "    </tr>\n",
       "  </tbody>\n",
       "</table>\n",
       "</div>"
      ],
      "text/plain": [
       "   코드값       코드명\n",
       "0  101      게이트볼\n",
       "1  102        골프\n",
       "2  103        농구\n",
       "3  104        배구\n",
       "4  105  럭비, 미식축구"
      ]
     },
     "execution_count": 4,
     "metadata": {},
     "output_type": "execute_result"
    }
   ],
   "source": [
    "# 체육종목 데이터 불러오기\n",
    "\n",
    "sports = pd.read_csv('./data/sports.csv')\n",
    "sports.head()"
   ]
  },
  {
   "cell_type": "code",
   "execution_count": 5,
   "id": "2bba12d6",
   "metadata": {},
   "outputs": [],
   "source": [
    "# 중복 제거\n",
    "\n",
    "df = df.drop_duplicates()"
   ]
  },
  {
   "cell_type": "code",
   "execution_count": 6,
   "id": "aa33baa5",
   "metadata": {},
   "outputs": [
    {
     "data": {
      "text/html": [
       "<div>\n",
       "<style scoped>\n",
       "    .dataframe tbody tr th:only-of-type {\n",
       "        vertical-align: middle;\n",
       "    }\n",
       "\n",
       "    .dataframe tbody tr th {\n",
       "        vertical-align: top;\n",
       "    }\n",
       "\n",
       "    .dataframe thead th {\n",
       "        text-align: right;\n",
       "    }\n",
       "</style>\n",
       "<table border=\"1\" class=\"dataframe\">\n",
       "  <thead>\n",
       "    <tr style=\"text-align: right;\">\n",
       "      <th></th>\n",
       "      <th>ID</th>\n",
       "      <th>조사구번호</th>\n",
       "      <th>시도</th>\n",
       "      <th>동읍면부</th>\n",
       "      <th>시군구</th>\n",
       "      <th>읍면동</th>\n",
       "      <th>HTYPE</th>\n",
       "      <th>SEX</th>\n",
       "      <th>BIRTH</th>\n",
       "      <th>AGE</th>\n",
       "      <th>...</th>\n",
       "      <th>FAM</th>\n",
       "      <th>FAM_ETC</th>\n",
       "      <th>CHI</th>\n",
       "      <th>INC</th>\n",
       "      <th>IINC</th>\n",
       "      <th>JOB</th>\n",
       "      <th>JOB11</th>\n",
       "      <th>JOB12</th>\n",
       "      <th>JOB12_ETC</th>\n",
       "      <th>WT</th>\n",
       "    </tr>\n",
       "  </thead>\n",
       "  <tbody>\n",
       "    <tr>\n",
       "      <th>0</th>\n",
       "      <td>1</td>\n",
       "      <td>11200682571</td>\n",
       "      <td>01. 서울특별시</td>\n",
       "      <td>1. 동부</td>\n",
       "      <td>동작구</td>\n",
       "      <td>대방동</td>\n",
       "      <td>1</td>\n",
       "      <td>1</td>\n",
       "      <td>200205</td>\n",
       "      <td>17</td>\n",
       "      <td>...</td>\n",
       "      <td>3</td>\n",
       "      <td>NaN</td>\n",
       "      <td>1</td>\n",
       "      <td>490</td>\n",
       "      <td>9</td>\n",
       "      <td>2</td>\n",
       "      <td>NaN</td>\n",
       "      <td>2</td>\n",
       "      <td>NaN</td>\n",
       "      <td>6833.2</td>\n",
       "    </tr>\n",
       "    <tr>\n",
       "      <th>1</th>\n",
       "      <td>2</td>\n",
       "      <td>11240641641</td>\n",
       "      <td>01. 서울특별시</td>\n",
       "      <td>1. 동부</td>\n",
       "      <td>송파구</td>\n",
       "      <td>삼전동</td>\n",
       "      <td>1</td>\n",
       "      <td>1</td>\n",
       "      <td>200209</td>\n",
       "      <td>17</td>\n",
       "      <td>...</td>\n",
       "      <td>4</td>\n",
       "      <td>NaN</td>\n",
       "      <td>1</td>\n",
       "      <td>500</td>\n",
       "      <td>10</td>\n",
       "      <td>2</td>\n",
       "      <td>NaN</td>\n",
       "      <td>2</td>\n",
       "      <td>NaN</td>\n",
       "      <td>6833.2</td>\n",
       "    </tr>\n",
       "  </tbody>\n",
       "</table>\n",
       "<p>2 rows × 225 columns</p>\n",
       "</div>"
      ],
      "text/plain": [
       "   ID        조사구번호         시도   동읍면부  시군구  읍면동  HTYPE  SEX   BIRTH  AGE  ...  \\\n",
       "0   1  11200682571  01. 서울특별시  1. 동부  동작구  대방동      1    1  200205   17  ...   \n",
       "1   2  11240641641  01. 서울특별시  1. 동부  송파구  삼전동      1    1  200209   17  ...   \n",
       "\n",
       "   FAM  FAM_ETC  CHI  INC  IINC  JOB  JOB11  JOB12  JOB12_ETC      WT  \n",
       "0    3      NaN    1  490     9    2    NaN      2        NaN  6833.2  \n",
       "1    4      NaN    1  500    10    2    NaN      2        NaN  6833.2  \n",
       "\n",
       "[2 rows x 225 columns]"
      ]
     },
     "execution_count": 6,
     "metadata": {},
     "output_type": "execute_result"
    }
   ],
   "source": [
    "# 문자열 '#NULL!' --> NaN으로 치환\n",
    "\n",
    "df = df.replace('#NULL!', np.nan)\n",
    "df.head(2)"
   ]
  },
  {
   "cell_type": "code",
   "execution_count": 7,
   "id": "63690d6a",
   "metadata": {},
   "outputs": [],
   "source": [
    "# 신노년세대 추출 --> 2019년 기준 1955 ~ 1963년생 --> 56 ~ 64세\n",
    "\n",
    "df = df[(df['AGE'] >= 56) & (df['AGE'] <= 64)]\n",
    "df = df.reset_index(drop=True)"
   ]
  },
  {
   "cell_type": "code",
   "execution_count": 8,
   "id": "7e3a99b3",
   "metadata": {},
   "outputs": [
    {
     "data": {
      "text/plain": [
       "(1305, 225)"
      ]
     },
     "execution_count": 8,
     "metadata": {},
     "output_type": "execute_result"
    }
   ],
   "source": [
    "# 데이터 개수 확인 --> 1305개\n",
    "\n",
    "df.shape"
   ]
  },
  {
   "cell_type": "markdown",
   "id": "0d2f4684",
   "metadata": {},
   "source": [
    "# 5. 신노년세대 유형화\n",
    "### <4가지 설문조사 문항 활용>\n",
    "\n",
    "\n",
    "- 귀하의 가구원 전체의 월 평균 소득은 어느 정도입니까? --> 000만원\n",
    "- 귀하의 체력상태는 현재 어느 정도라고 생각하십니까? --> ①전혀 좋지 않다 - ②별로 좋지 않다 - ③그저 그렇다 - ④좋다 - ⑤매우 좋다\n",
    "- 귀하의 건강상태는 현재 어느 정도라고 생각하십니까? --> ①전혀 좋지 않다 - ②별로 좋지 않다 - ③그저 그렇다 - ④좋다 - ⑤매우 좋다\n",
    "- 건강 및 체력을 유지하기 위해 규칙적인 체육활동을 얼마나 잘 수행하고 계십니까? --> ①전혀 수행하지 않는다 - ②별로 수행하지 않는다 - ③보통이다 - ④잘 수행한다 - ⑤매우 잘 수행한다\n",
    "\n",
    "## (1) EDA"
   ]
  },
  {
   "cell_type": "code",
   "execution_count": 9,
   "id": "dadf5fe7",
   "metadata": {},
   "outputs": [
    {
     "data": {
      "text/html": [
       "<div>\n",
       "<style scoped>\n",
       "    .dataframe tbody tr th:only-of-type {\n",
       "        vertical-align: middle;\n",
       "    }\n",
       "\n",
       "    .dataframe tbody tr th {\n",
       "        vertical-align: top;\n",
       "    }\n",
       "\n",
       "    .dataframe thead th {\n",
       "        text-align: right;\n",
       "    }\n",
       "</style>\n",
       "<table border=\"1\" class=\"dataframe\">\n",
       "  <thead>\n",
       "    <tr style=\"text-align: right;\">\n",
       "      <th></th>\n",
       "      <th>ID</th>\n",
       "      <th>Income</th>\n",
       "      <th>Health</th>\n",
       "      <th>Strength</th>\n",
       "      <th>Exercise</th>\n",
       "    </tr>\n",
       "  </thead>\n",
       "  <tbody>\n",
       "    <tr>\n",
       "      <th>0</th>\n",
       "      <td>389</td>\n",
       "      <td>280</td>\n",
       "      <td>4</td>\n",
       "      <td>4</td>\n",
       "      <td>2</td>\n",
       "    </tr>\n",
       "    <tr>\n",
       "      <th>1</th>\n",
       "      <td>390</td>\n",
       "      <td>530</td>\n",
       "      <td>3</td>\n",
       "      <td>2</td>\n",
       "      <td>2</td>\n",
       "    </tr>\n",
       "  </tbody>\n",
       "</table>\n",
       "</div>"
      ],
      "text/plain": [
       "    ID  Income  Health  Strength  Exercise\n",
       "0  389     280       4         4         2\n",
       "1  390     530       3         2         2"
      ]
     },
     "execution_count": 9,
     "metadata": {},
     "output_type": "execute_result"
    }
   ],
   "source": [
    "# 필요한 컬럼만 추출하여 df 생성 및 컬럼명 변경\n",
    "# INC: 월평균가구소득 --> Income\n",
    "# Q01: 본인의 건강상태에 대한 인식 --> Health\n",
    "# Q03: 본인의 체력상태에 대한 인식 --> Strength\n",
    "# Q051: 건강 및 체력 유지를 위한 방법 수행 정도 (규칙적인 체육활동) --> Exercise\n",
    "\n",
    "Cluster = df[['ID', 'INC', 'Q01', 'Q03', 'Q051']]\n",
    "Cluster = Cluster.rename(columns={'INC': 'Income', 'Q01': 'Health','Q03':'Strength', 'Q051':'Exercise'})\n",
    "Cluster.head(2)"
   ]
  },
  {
   "cell_type": "code",
   "execution_count": 10,
   "id": "105efce6",
   "metadata": {},
   "outputs": [
    {
     "data": {
      "text/plain": [
       "ID          0\n",
       "Income      0\n",
       "Health      0\n",
       "Strength    0\n",
       "Exercise    0\n",
       "dtype: int64"
      ]
     },
     "execution_count": 10,
     "metadata": {},
     "output_type": "execute_result"
    }
   ],
   "source": [
    "# 결측치 확인 --> 없음\n",
    "\n",
    "Cluster.isna().sum()"
   ]
  },
  {
   "cell_type": "code",
   "execution_count": 11,
   "id": "9f060890",
   "metadata": {},
   "outputs": [
    {
     "data": {
      "text/html": [
       "<div>\n",
       "<style scoped>\n",
       "    .dataframe tbody tr th:only-of-type {\n",
       "        vertical-align: middle;\n",
       "    }\n",
       "\n",
       "    .dataframe tbody tr th {\n",
       "        vertical-align: top;\n",
       "    }\n",
       "\n",
       "    .dataframe thead th {\n",
       "        text-align: right;\n",
       "    }\n",
       "</style>\n",
       "<table border=\"1\" class=\"dataframe\">\n",
       "  <thead>\n",
       "    <tr style=\"text-align: right;\">\n",
       "      <th></th>\n",
       "      <th>Income</th>\n",
       "      <th>Health</th>\n",
       "      <th>Strength</th>\n",
       "      <th>Exercise</th>\n",
       "    </tr>\n",
       "  </thead>\n",
       "  <tbody>\n",
       "    <tr>\n",
       "      <th>count</th>\n",
       "      <td>1305.000000</td>\n",
       "      <td>1305.000000</td>\n",
       "      <td>1305.000000</td>\n",
       "      <td>1305.000000</td>\n",
       "    </tr>\n",
       "    <tr>\n",
       "      <th>mean</th>\n",
       "      <td>374.226054</td>\n",
       "      <td>3.601533</td>\n",
       "      <td>3.473563</td>\n",
       "      <td>3.232950</td>\n",
       "    </tr>\n",
       "    <tr>\n",
       "      <th>std</th>\n",
       "      <td>154.603734</td>\n",
       "      <td>0.751684</td>\n",
       "      <td>0.763095</td>\n",
       "      <td>0.937127</td>\n",
       "    </tr>\n",
       "    <tr>\n",
       "      <th>min</th>\n",
       "      <td>30.000000</td>\n",
       "      <td>1.000000</td>\n",
       "      <td>1.000000</td>\n",
       "      <td>1.000000</td>\n",
       "    </tr>\n",
       "    <tr>\n",
       "      <th>25%</th>\n",
       "      <td>260.000000</td>\n",
       "      <td>3.000000</td>\n",
       "      <td>3.000000</td>\n",
       "      <td>3.000000</td>\n",
       "    </tr>\n",
       "    <tr>\n",
       "      <th>50%</th>\n",
       "      <td>360.000000</td>\n",
       "      <td>4.000000</td>\n",
       "      <td>4.000000</td>\n",
       "      <td>3.000000</td>\n",
       "    </tr>\n",
       "    <tr>\n",
       "      <th>75%</th>\n",
       "      <td>470.000000</td>\n",
       "      <td>4.000000</td>\n",
       "      <td>4.000000</td>\n",
       "      <td>4.000000</td>\n",
       "    </tr>\n",
       "    <tr>\n",
       "      <th>max</th>\n",
       "      <td>1300.000000</td>\n",
       "      <td>5.000000</td>\n",
       "      <td>5.000000</td>\n",
       "      <td>5.000000</td>\n",
       "    </tr>\n",
       "  </tbody>\n",
       "</table>\n",
       "</div>"
      ],
      "text/plain": [
       "            Income       Health     Strength     Exercise\n",
       "count  1305.000000  1305.000000  1305.000000  1305.000000\n",
       "mean    374.226054     3.601533     3.473563     3.232950\n",
       "std     154.603734     0.751684     0.763095     0.937127\n",
       "min      30.000000     1.000000     1.000000     1.000000\n",
       "25%     260.000000     3.000000     3.000000     3.000000\n",
       "50%     360.000000     4.000000     4.000000     3.000000\n",
       "75%     470.000000     4.000000     4.000000     4.000000\n",
       "max    1300.000000     5.000000     5.000000     5.000000"
      ]
     },
     "execution_count": 11,
     "metadata": {},
     "output_type": "execute_result"
    }
   ],
   "source": [
    "# 전체 변수 EDA\n",
    "\n",
    "Cluster.iloc[:, 1:].describe()"
   ]
  },
  {
   "cell_type": "code",
   "execution_count": 12,
   "id": "3f9cf536",
   "metadata": {
    "scrolled": false
   },
   "outputs": [
    {
     "data": {
      "image/png": "[encoded data removed]",
      "text/plain": [
       "<Figure size 1152x288 with 2 Axes>"
      ]
     },
     "metadata": {
      "needs_background": "light"
     },
     "output_type": "display_data"
    }
   ],
   "source": [
    "# 소득 분포 확인 --> 평균 374만원이며 오른꼬리가 긴 정규분포\n",
    "\n",
    "plt.figure(figsize=(16, 4))\n",
    "plt.subplot(1, 2, 1)\n",
    "sns.histplot(data=Cluster, x='Income', kde=True)\n",
    "plt.xticks(np.arange(0, 1300, 100))\n",
    "plt.subplot(1, 2, 2)\n",
    "sns.boxplot(data=Cluster, x='Income')\n",
    "plt.show()"
   ]
  },
  {
   "cell_type": "code",
   "execution_count": 13,
   "id": "6ef7ac3b",
   "metadata": {},
   "outputs": [
    {
     "data": {
      "image/png": "[encoded data removed]",
      "text/plain": [
       "<Figure size 1152x288 with 3 Axes>"
      ]
     },
     "metadata": {
      "needs_background": "light"
     },
     "output_type": "display_data"
    }
   ],
   "source": [
    "# 건강인식, 체력인식, 체육활동 분포 확인\n",
    "\n",
    "features = ['Health', 'Strength', 'Exercise']\n",
    "plt.figure(figsize=(16, 4))\n",
    "for i, feature in enumerate(features):\n",
    "    plt.subplot(1, 3, i+1)\n",
    "    plt.ylim((0, 700))\n",
    "    sns.countplot(data=Cluster, x=feature)\n",
    "plt.show()"
   ]
  },
  {
   "cell_type": "markdown",
   "id": "78995e29",
   "metadata": {},
   "source": [
    "## (2) Kmeans Clustering\n",
    "\n",
    "- 비계층적 군집분석 알고리즘\n",
    "- 군집 내 데이터와 군집중심간의 거리를 최소화하는 k개의 군집으로 구분\n",
    "- 계층적 방식에 비하여 계산량이 적고 대용량 데이터를 빠르게 처리"
   ]
  },
  {
   "cell_type": "code",
   "execution_count": 14,
   "id": "8608a1da",
   "metadata": {},
   "outputs": [],
   "source": [
    "# 데이터 표준화, 정규화\n",
    "\n",
    "std = StandardScaler()\n",
    "X_std = std.fit_transform(Cluster.iloc[:, 1:])\n",
    "X = normalize(X_std)"
   ]
  },
  {
   "cell_type": "code",
   "execution_count": 15,
   "id": "2081b35f",
   "metadata": {},
   "outputs": [
    {
     "data": {
      "image/png": "[encoded data removed]",
      "text/plain": [
       "<Figure size 864x288 with 3 Axes>"
      ]
     },
     "metadata": {
      "needs_background": "light"
     },
     "output_type": "display_data"
    }
   ],
   "source": [
    "# 적정 군집수를 도출하기 위한 실루엣계수 확인\n",
    "# 실루엣계수 전체 평균이 높으면서도 각 군집간 평균 차이가 크지 않은 4개 선택\n",
    "\n",
    "visualize_silhouette([3, 4, 5], X)"
   ]
  },
  {
   "cell_type": "code",
   "execution_count": 16,
   "id": "1ed2b21c",
   "metadata": {
    "scrolled": true
   },
   "outputs": [
    {
     "data": {
      "text/html": [
       "<style>#sk-container-id-1 {color: black;background-color: white;}#sk-container-id-1 pre{padding: 0;}#sk-container-id-1 div.sk-toggleable {background-color: white;}#sk-container-id-1 label.sk-toggleable__label {cursor: pointer;display: block;width: 100%;margin-bottom: 0;padding: 0.3em;box-sizing: border-box;text-align: center;}#sk-container-id-1 label.sk-toggleable__label-arrow:before {content: \"▸\";float: left;margin-right: 0.25em;color: #696969;}#sk-container-id-1 label.sk-toggleable__label-arrow:hover:before {color: black;}#sk-container-id-1 div.sk-estimator:hover label.sk-toggleable__label-arrow:before {color: black;}#sk-container-id-1 div.sk-toggleable__content {max-height: 0;max-width: 0;overflow: hidden;text-align: left;background-color: #f0f8ff;}#sk-container-id-1 div.sk-toggleable__content pre {margin: 0.2em;color: black;border-radius: 0.25em;background-color: #f0f8ff;}#sk-container-id-1 input.sk-toggleable__control:checked~div.sk-toggleable__content {max-height: 200px;max-width: 100%;overflow: auto;}#sk-container-id-1 input.sk-toggleable__control:checked~label.sk-toggleable__label-arrow:before {content: \"▾\";}#sk-container-id-1 div.sk-estimator input.sk-toggleable__control:checked~label.sk-toggleable__label {background-color: #d4ebff;}#sk-container-id-1 div.sk-label input.sk-toggleable__control:checked~label.sk-toggleable__label {background-color: #d4ebff;}#sk-container-id-1 input.sk-hidden--visually {border: 0;clip: rect(1px 1px 1px 1px);clip: rect(1px, 1px, 1px, 1px);height: 1px;margin: -1px;overflow: hidden;padding: 0;position: absolute;width: 1px;}#sk-container-id-1 div.sk-estimator {font-family: monospace;background-color: #f0f8ff;border: 1px dotted black;border-radius: 0.25em;box-sizing: border-box;margin-bottom: 0.5em;}#sk-container-id-1 div.sk-estimator:hover {background-color: #d4ebff;}#sk-container-id-1 div.sk-parallel-item::after {content: \"\";width: 100%;border-bottom: 1px solid gray;flex-grow: 1;}#sk-container-id-1 div.sk-label:hover label.sk-toggleable__label {background-color: #d4ebff;}#sk-container-id-1 div.sk-serial::before {content: \"\";position: absolute;border-left: 1px solid gray;box-sizing: border-box;top: 0;bottom: 0;left: 50%;z-index: 0;}#sk-container-id-1 div.sk-serial {display: flex;flex-direction: column;align-items: center;background-color: white;padding-right: 0.2em;padding-left: 0.2em;position: relative;}#sk-container-id-1 div.sk-item {position: relative;z-index: 1;}#sk-container-id-1 div.sk-parallel {display: flex;align-items: stretch;justify-content: center;background-color: white;position: relative;}#sk-container-id-1 div.sk-item::before, #sk-container-id-1 div.sk-parallel-item::before {content: \"\";position: absolute;border-left: 1px solid gray;box-sizing: border-box;top: 0;bottom: 0;left: 50%;z-index: -1;}#sk-container-id-1 div.sk-parallel-item {display: flex;flex-direction: column;z-index: 1;position: relative;background-color: white;}#sk-container-id-1 div.sk-parallel-item:first-child::after {align-self: flex-end;width: 50%;}#sk-container-id-1 div.sk-parallel-item:last-child::after {align-self: flex-start;width: 50%;}#sk-container-id-1 div.sk-parallel-item:only-child::after {width: 0;}#sk-container-id-1 div.sk-dashed-wrapped {border: 1px dashed gray;margin: 0 0.4em 0.5em 0.4em;box-sizing: border-box;padding-bottom: 0.4em;background-color: white;}#sk-container-id-1 div.sk-label label {font-family: monospace;font-weight: bold;display: inline-block;line-height: 1.2em;}#sk-container-id-1 div.sk-label-container {text-align: center;}#sk-container-id-1 div.sk-container {/* jupyter's `normalize.less` sets `[hidden] { display: none; }` but bootstrap.min.css set `[hidden] { display: none !important; }` so we also need the `!important` here to be able to override the default hidden behavior on the sphinx rendered scikit-learn.org. See: https://github.com/scikit-learn/scikit-learn/issues/21755 */display: inline-block !important;position: relative;}#sk-container-id-1 div.sk-text-repr-fallback {display: none;}</style><div id=\"sk-container-id-1\" class=\"sk-top-container\"><div class=\"sk-text-repr-fallback\"><pre>KMeans(init=&#x27;random&#x27;, n_clusters=4, random_state=0)</pre><b>In a Jupyter environment, please rerun this cell to show the HTML representation or trust the notebook. <br />On GitHub, the HTML representation is unable to render, please try loading this page with nbviewer.org.</b></div><div class=\"sk-container\" hidden><div class=\"sk-item\"><div class=\"sk-estimator sk-toggleable\"><input class=\"sk-toggleable__control sk-hidden--visually\" id=\"sk-estimator-id-1\" type=\"checkbox\" checked><label for=\"sk-estimator-id-1\" class=\"sk-toggleable__label sk-toggleable__label-arrow\">KMeans</label><div class=\"sk-toggleable__content\"><pre>KMeans(init=&#x27;random&#x27;, n_clusters=4, random_state=0)</pre></div></div></div></div></div>"
      ],
      "text/plain": [
       "KMeans(init='random', n_clusters=4, random_state=0)"
      ]
     },
     "execution_count": 16,
     "metadata": {},
     "output_type": "execute_result"
    }
   ],
   "source": [
    "# 군집수 4개로 K-Means 군집분석 실행\n",
    "\n",
    "km = KMeans(n_clusters = 4,         # 군집수\n",
    "            init = 'random',        # 초기 중심 좌표 설정 방법\n",
    "            n_init = 10,            # 초기 중심위치 시도 횟수\n",
    "            max_iter = 300,         # 최대 반복 횟수\n",
    "            tol = 1e-04,            # 허용 오차값\n",
    "            random_state=0)\n",
    "\n",
    "km.fit(X)"
   ]
  },
  {
   "cell_type": "code",
   "execution_count": 17,
   "id": "46761be9",
   "metadata": {},
   "outputs": [],
   "source": [
    "# df에 군집번호 붙이기\n",
    "\n",
    "Cluster['cluster'] = km.labels_"
   ]
  },
  {
   "cell_type": "markdown",
   "id": "851b334a",
   "metadata": {},
   "source": [
    "## (3) 군집별 EDA"
   ]
  },
  {
   "cell_type": "code",
   "execution_count": 18,
   "id": "dff055d9",
   "metadata": {
    "scrolled": false
   },
   "outputs": [
    {
     "data": {
      "text/html": [
       "<div>\n",
       "<style scoped>\n",
       "    .dataframe tbody tr th:only-of-type {\n",
       "        vertical-align: middle;\n",
       "    }\n",
       "\n",
       "    .dataframe tbody tr th {\n",
       "        vertical-align: top;\n",
       "    }\n",
       "\n",
       "    .dataframe thead th {\n",
       "        text-align: right;\n",
       "    }\n",
       "</style>\n",
       "<table border=\"1\" class=\"dataframe\">\n",
       "  <thead>\n",
       "    <tr style=\"text-align: right;\">\n",
       "      <th></th>\n",
       "      <th>cluster</th>\n",
       "      <th>0</th>\n",
       "      <th>1</th>\n",
       "      <th>2</th>\n",
       "      <th>3</th>\n",
       "    </tr>\n",
       "  </thead>\n",
       "  <tbody>\n",
       "    <tr>\n",
       "      <th rowspan=\"8\" valign=\"top\">Income</th>\n",
       "      <th>count</th>\n",
       "      <td>268.000000</td>\n",
       "      <td>368.000000</td>\n",
       "      <td>447.000000</td>\n",
       "      <td>222.000000</td>\n",
       "    </tr>\n",
       "    <tr>\n",
       "      <th>mean</th>\n",
       "      <td>585.988806</td>\n",
       "      <td>332.309783</td>\n",
       "      <td>299.116331</td>\n",
       "      <td>339.301802</td>\n",
       "    </tr>\n",
       "    <tr>\n",
       "      <th>std</th>\n",
       "      <td>115.402130</td>\n",
       "      <td>104.082689</td>\n",
       "      <td>113.432246</td>\n",
       "      <td>105.102122</td>\n",
       "    </tr>\n",
       "    <tr>\n",
       "      <th>min</th>\n",
       "      <td>400.000000</td>\n",
       "      <td>50.000000</td>\n",
       "      <td>30.000000</td>\n",
       "      <td>30.000000</td>\n",
       "    </tr>\n",
       "    <tr>\n",
       "      <th>25%</th>\n",
       "      <td>500.000000</td>\n",
       "      <td>250.000000</td>\n",
       "      <td>200.000000</td>\n",
       "      <td>250.000000</td>\n",
       "    </tr>\n",
       "    <tr>\n",
       "      <th>50%</th>\n",
       "      <td>550.000000</td>\n",
       "      <td>340.000000</td>\n",
       "      <td>300.000000</td>\n",
       "      <td>350.000000</td>\n",
       "    </tr>\n",
       "    <tr>\n",
       "      <th>75%</th>\n",
       "      <td>650.000000</td>\n",
       "      <td>400.000000</td>\n",
       "      <td>380.000000</td>\n",
       "      <td>400.000000</td>\n",
       "    </tr>\n",
       "    <tr>\n",
       "      <th>max</th>\n",
       "      <td>1300.000000</td>\n",
       "      <td>600.000000</td>\n",
       "      <td>750.000000</td>\n",
       "      <td>600.000000</td>\n",
       "    </tr>\n",
       "    <tr>\n",
       "      <th rowspan=\"8\" valign=\"top\">Health</th>\n",
       "      <th>count</th>\n",
       "      <td>268.000000</td>\n",
       "      <td>368.000000</td>\n",
       "      <td>447.000000</td>\n",
       "      <td>222.000000</td>\n",
       "    </tr>\n",
       "    <tr>\n",
       "      <th>mean</th>\n",
       "      <td>3.593284</td>\n",
       "      <td>4.076087</td>\n",
       "      <td>2.986577</td>\n",
       "      <td>4.063063</td>\n",
       "    </tr>\n",
       "    <tr>\n",
       "      <th>std</th>\n",
       "      <td>0.521694</td>\n",
       "      <td>0.561890</td>\n",
       "      <td>0.672855</td>\n",
       "      <td>0.461735</td>\n",
       "    </tr>\n",
       "    <tr>\n",
       "      <th>min</th>\n",
       "      <td>2.000000</td>\n",
       "      <td>2.000000</td>\n",
       "      <td>1.000000</td>\n",
       "      <td>3.000000</td>\n",
       "    </tr>\n",
       "    <tr>\n",
       "      <th>25%</th>\n",
       "      <td>3.000000</td>\n",
       "      <td>4.000000</td>\n",
       "      <td>3.000000</td>\n",
       "      <td>4.000000</td>\n",
       "    </tr>\n",
       "    <tr>\n",
       "      <th>50%</th>\n",
       "      <td>4.000000</td>\n",
       "      <td>4.000000</td>\n",
       "      <td>3.000000</td>\n",
       "      <td>4.000000</td>\n",
       "    </tr>\n",
       "    <tr>\n",
       "      <th>75%</th>\n",
       "      <td>4.000000</td>\n",
       "      <td>4.000000</td>\n",
       "      <td>3.000000</td>\n",
       "      <td>4.000000</td>\n",
       "    </tr>\n",
       "    <tr>\n",
       "      <th>max</th>\n",
       "      <td>5.000000</td>\n",
       "      <td>5.000000</td>\n",
       "      <td>4.000000</td>\n",
       "      <td>5.000000</td>\n",
       "    </tr>\n",
       "    <tr>\n",
       "      <th rowspan=\"8\" valign=\"top\">Strength</th>\n",
       "      <th>count</th>\n",
       "      <td>268.000000</td>\n",
       "      <td>368.000000</td>\n",
       "      <td>447.000000</td>\n",
       "      <td>222.000000</td>\n",
       "    </tr>\n",
       "    <tr>\n",
       "      <th>mean</th>\n",
       "      <td>3.492537</td>\n",
       "      <td>3.986413</td>\n",
       "      <td>2.738255</td>\n",
       "      <td>4.081081</td>\n",
       "    </tr>\n",
       "    <tr>\n",
       "      <th>std</th>\n",
       "      <td>0.564177</td>\n",
       "      <td>0.564461</td>\n",
       "      <td>0.497473</td>\n",
       "      <td>0.346544</td>\n",
       "    </tr>\n",
       "    <tr>\n",
       "      <th>min</th>\n",
       "      <td>2.000000</td>\n",
       "      <td>3.000000</td>\n",
       "      <td>1.000000</td>\n",
       "      <td>3.000000</td>\n",
       "    </tr>\n",
       "    <tr>\n",
       "      <th>25%</th>\n",
       "      <td>3.000000</td>\n",
       "      <td>4.000000</td>\n",
       "      <td>2.000000</td>\n",
       "      <td>4.000000</td>\n",
       "    </tr>\n",
       "    <tr>\n",
       "      <th>50%</th>\n",
       "      <td>4.000000</td>\n",
       "      <td>4.000000</td>\n",
       "      <td>3.000000</td>\n",
       "      <td>4.000000</td>\n",
       "    </tr>\n",
       "    <tr>\n",
       "      <th>75%</th>\n",
       "      <td>4.000000</td>\n",
       "      <td>4.000000</td>\n",
       "      <td>3.000000</td>\n",
       "      <td>4.000000</td>\n",
       "    </tr>\n",
       "    <tr>\n",
       "      <th>max</th>\n",
       "      <td>5.000000</td>\n",
       "      <td>5.000000</td>\n",
       "      <td>4.000000</td>\n",
       "      <td>5.000000</td>\n",
       "    </tr>\n",
       "    <tr>\n",
       "      <th rowspan=\"8\" valign=\"top\">Exercise</th>\n",
       "      <th>count</th>\n",
       "      <td>268.000000</td>\n",
       "      <td>368.000000</td>\n",
       "      <td>447.000000</td>\n",
       "      <td>222.000000</td>\n",
       "    </tr>\n",
       "    <tr>\n",
       "      <th>mean</th>\n",
       "      <td>3.268657</td>\n",
       "      <td>4.179348</td>\n",
       "      <td>2.812081</td>\n",
       "      <td>2.468468</td>\n",
       "    </tr>\n",
       "    <tr>\n",
       "      <th>std</th>\n",
       "      <td>0.761077</td>\n",
       "      <td>0.384166</td>\n",
       "      <td>0.809438</td>\n",
       "      <td>0.690201</td>\n",
       "    </tr>\n",
       "    <tr>\n",
       "      <th>min</th>\n",
       "      <td>1.000000</td>\n",
       "      <td>4.000000</td>\n",
       "      <td>1.000000</td>\n",
       "      <td>1.000000</td>\n",
       "    </tr>\n",
       "    <tr>\n",
       "      <th>25%</th>\n",
       "      <td>3.000000</td>\n",
       "      <td>4.000000</td>\n",
       "      <td>2.000000</td>\n",
       "      <td>2.000000</td>\n",
       "    </tr>\n",
       "    <tr>\n",
       "      <th>50%</th>\n",
       "      <td>3.000000</td>\n",
       "      <td>4.000000</td>\n",
       "      <td>3.000000</td>\n",
       "      <td>3.000000</td>\n",
       "    </tr>\n",
       "    <tr>\n",
       "      <th>75%</th>\n",
       "      <td>4.000000</td>\n",
       "      <td>4.000000</td>\n",
       "      <td>3.000000</td>\n",
       "      <td>3.000000</td>\n",
       "    </tr>\n",
       "    <tr>\n",
       "      <th>max</th>\n",
       "      <td>5.000000</td>\n",
       "      <td>5.000000</td>\n",
       "      <td>5.000000</td>\n",
       "      <td>3.000000</td>\n",
       "    </tr>\n",
       "  </tbody>\n",
       "</table>\n",
       "</div>"
      ],
      "text/plain": [
       "cluster                   0           1           2           3\n",
       "Income   count   268.000000  368.000000  447.000000  222.000000\n",
       "         mean    585.988806  332.309783  299.116331  339.301802\n",
       "         std     115.402130  104.082689  113.432246  105.102122\n",
       "         min     400.000000   50.000000   30.000000   30.000000\n",
       "         25%     500.000000  250.000000  200.000000  250.000000\n",
       "         50%     550.000000  340.000000  300.000000  350.000000\n",
       "         75%     650.000000  400.000000  380.000000  400.000000\n",
       "         max    1300.000000  600.000000  750.000000  600.000000\n",
       "Health   count   268.000000  368.000000  447.000000  222.000000\n",
       "         mean      3.593284    4.076087    2.986577    4.063063\n",
       "         std       0.521694    0.561890    0.672855    0.461735\n",
       "         min       2.000000    2.000000    1.000000    3.000000\n",
       "         25%       3.000000    4.000000    3.000000    4.000000\n",
       "         50%       4.000000    4.000000    3.000000    4.000000\n",
       "         75%       4.000000    4.000000    3.000000    4.000000\n",
       "         max       5.000000    5.000000    4.000000    5.000000\n",
       "Strength count   268.000000  368.000000  447.000000  222.000000\n",
       "         mean      3.492537    3.986413    2.738255    4.081081\n",
       "         std       0.564177    0.564461    0.497473    0.346544\n",
       "         min       2.000000    3.000000    1.000000    3.000000\n",
       "         25%       3.000000    4.000000    2.000000    4.000000\n",
       "         50%       4.000000    4.000000    3.000000    4.000000\n",
       "         75%       4.000000    4.000000    3.000000    4.000000\n",
       "         max       5.000000    5.000000    4.000000    5.000000\n",
       "Exercise count   268.000000  368.000000  447.000000  222.000000\n",
       "         mean      3.268657    4.179348    2.812081    2.468468\n",
       "         std       0.761077    0.384166    0.809438    0.690201\n",
       "         min       1.000000    4.000000    1.000000    1.000000\n",
       "         25%       3.000000    4.000000    2.000000    2.000000\n",
       "         50%       3.000000    4.000000    3.000000    3.000000\n",
       "         75%       4.000000    4.000000    3.000000    3.000000\n",
       "         max       5.000000    5.000000    5.000000    3.000000"
      ]
     },
     "execution_count": 18,
     "metadata": {},
     "output_type": "execute_result"
    }
   ],
   "source": [
    "Cluster.iloc[:, 1:].groupby('cluster').describe().T"
   ]
  },
  {
   "cell_type": "code",
   "execution_count": 19,
   "id": "843b4493",
   "metadata": {},
   "outputs": [
    {
     "data": {
      "image/png": "[encoded data removed]",
      "text/plain": [
       "<Figure size 540x144 with 1 Axes>"
      ]
     },
     "metadata": {
      "needs_background": "light"
     },
     "output_type": "display_data"
    },
    {
     "data": {
      "image/png": "[encoded data removed]",
      "text/plain": [
       "<Figure size 540x144 with 1 Axes>"
      ]
     },
     "metadata": {
      "needs_background": "light"
     },
     "output_type": "display_data"
    },
    {
     "data": {
      "image/png": "[encoded data removed]",
      "text/plain": [
       "<Figure size 540x144 with 1 Axes>"
      ]
     },
     "metadata": {
      "needs_background": "light"
     },
     "output_type": "display_data"
    },
    {
     "data": {
      "image/png": "[encoded data removed]",
      "text/plain": [
       "<Figure size 540x144 with 1 Axes>"
      ]
     },
     "metadata": {
      "needs_background": "light"
     },
     "output_type": "display_data"
    }
   ],
   "source": [
    "# 군집별 건강인식, 체력인식, 체육활동 분포 시각화\n",
    "\n",
    "features = ['Health', 'Strength', 'Exercise']\n",
    "category_names = ['전혀 그렇지 않다', '그렇지 않다', '그저 그렇다', '그렇다', '매우 그렇다']\n",
    "\n",
    "for i in range(4):\n",
    "    cluster = Cluster[Cluster['cluster'] == i]\n",
    "    results = {}\n",
    "    for feature in features:\n",
    "        data = cluster.groupby(feature)[feature].count()\n",
    "        lst = []\n",
    "        for j in range(1, 6):\n",
    "            try:\n",
    "                lst.append(data[j])\n",
    "            except:\n",
    "                lst.append(0)\n",
    "        results[feature] = lst\n",
    "    survey(results, category_names)\n",
    "plt.show()"
   ]
  },
  {
   "cell_type": "code",
   "execution_count": 20,
   "id": "0bb45f8e",
   "metadata": {
    "scrolled": true
   },
   "outputs": [
    {
     "data": {
      "image/png": "[encoded data removed]",
      "text/plain": [
       "<Figure size 432x288 with 1 Axes>"
      ]
     },
     "metadata": {
      "needs_background": "light"
     },
     "output_type": "display_data"
    }
   ],
   "source": [
    "# 군집별 소득 박스플롯\n",
    "\n",
    "Cluster.pivot(['ID'], 'cluster', 'Income').plot.box()\n",
    "plt.xlabel('Cluster')\n",
    "plt.ylabel('Income')\n",
    "plt.show()"
   ]
  },
  {
   "cell_type": "code",
   "execution_count": 21,
   "id": "f57f6cb3",
   "metadata": {
    "scrolled": true
   },
   "outputs": [
    {
     "data": {
      "text/html": [
       "<div>\n",
       "<style scoped>\n",
       "    .dataframe tbody tr th:only-of-type {\n",
       "        vertical-align: middle;\n",
       "    }\n",
       "\n",
       "    .dataframe tbody tr th {\n",
       "        vertical-align: top;\n",
       "    }\n",
       "\n",
       "    .dataframe thead th {\n",
       "        text-align: right;\n",
       "    }\n",
       "</style>\n",
       "<table border=\"1\" class=\"dataframe\">\n",
       "  <thead>\n",
       "    <tr style=\"text-align: right;\">\n",
       "      <th></th>\n",
       "      <th>ID</th>\n",
       "      <th>조사구번호</th>\n",
       "      <th>시도</th>\n",
       "      <th>동읍면부</th>\n",
       "      <th>시군구</th>\n",
       "      <th>읍면동</th>\n",
       "      <th>HTYPE</th>\n",
       "      <th>SEX</th>\n",
       "      <th>BIRTH</th>\n",
       "      <th>AGE</th>\n",
       "      <th>...</th>\n",
       "      <th>FAM_ETC</th>\n",
       "      <th>CHI</th>\n",
       "      <th>INC</th>\n",
       "      <th>IINC</th>\n",
       "      <th>JOB</th>\n",
       "      <th>JOB11</th>\n",
       "      <th>JOB12</th>\n",
       "      <th>JOB12_ETC</th>\n",
       "      <th>WT</th>\n",
       "      <th>cluster</th>\n",
       "    </tr>\n",
       "  </thead>\n",
       "  <tbody>\n",
       "    <tr>\n",
       "      <th>0</th>\n",
       "      <td>389</td>\n",
       "      <td>11240642311</td>\n",
       "      <td>01. 서울특별시</td>\n",
       "      <td>1. 동부</td>\n",
       "      <td>송파구</td>\n",
       "      <td>삼전동</td>\n",
       "      <td>1</td>\n",
       "      <td>1</td>\n",
       "      <td>196201</td>\n",
       "      <td>57</td>\n",
       "      <td>...</td>\n",
       "      <td>NaN</td>\n",
       "      <td>2</td>\n",
       "      <td>280</td>\n",
       "      <td>5</td>\n",
       "      <td>1</td>\n",
       "      <td>7</td>\n",
       "      <td>NaN</td>\n",
       "      <td>NaN</td>\n",
       "      <td>9231.01</td>\n",
       "      <td>3</td>\n",
       "    </tr>\n",
       "    <tr>\n",
       "      <th>1</th>\n",
       "      <td>390</td>\n",
       "      <td>1121063090A</td>\n",
       "      <td>01. 서울특별시</td>\n",
       "      <td>1. 동부</td>\n",
       "      <td>관악구</td>\n",
       "      <td>남현동</td>\n",
       "      <td>2</td>\n",
       "      <td>1</td>\n",
       "      <td>196308</td>\n",
       "      <td>56</td>\n",
       "      <td>...</td>\n",
       "      <td>NaN</td>\n",
       "      <td>2</td>\n",
       "      <td>530</td>\n",
       "      <td>10</td>\n",
       "      <td>1</td>\n",
       "      <td>3</td>\n",
       "      <td>NaN</td>\n",
       "      <td>NaN</td>\n",
       "      <td>9231.01</td>\n",
       "      <td>2</td>\n",
       "    </tr>\n",
       "  </tbody>\n",
       "</table>\n",
       "<p>2 rows × 226 columns</p>\n",
       "</div>"
      ],
      "text/plain": [
       "    ID        조사구번호         시도   동읍면부  시군구  읍면동  HTYPE  SEX   BIRTH  AGE  ...  \\\n",
       "0  389  11240642311  01. 서울특별시  1. 동부  송파구  삼전동      1    1  196201   57  ...   \n",
       "1  390  1121063090A  01. 서울특별시  1. 동부  관악구  남현동      2    1  196308   56  ...   \n",
       "\n",
       "   FAM_ETC  CHI  INC  IINC  JOB  JOB11  JOB12  JOB12_ETC       WT  cluster  \n",
       "0      NaN    2  280     5    1      7    NaN        NaN  9231.01        3  \n",
       "1      NaN    2  530    10    1      3    NaN        NaN  9231.01        2  \n",
       "\n",
       "[2 rows x 226 columns]"
      ]
     },
     "execution_count": 21,
     "metadata": {},
     "output_type": "execute_result"
    }
   ],
   "source": [
    "# df에 cluster 컬럼 추가\n",
    "\n",
    "df = pd.merge(df, Cluster.iloc[:, [0, -1]], left_on='ID', right_on='ID')\n",
    "df.head(2)"
   ]
  },
  {
   "cell_type": "code",
   "execution_count": 22,
   "id": "0af124e3",
   "metadata": {},
   "outputs": [],
   "source": [
    "# 군집별 df 생성\n",
    "\n",
    "df0 = df[df['cluster'] == 0]\n",
    "df1 = df[df['cluster'] == 1]\n",
    "df2 = df[df['cluster'] == 2]\n",
    "df3 = df[df['cluster'] == 3]"
   ]
  },
  {
   "cell_type": "markdown",
   "id": "ff397ec6",
   "metadata": {},
   "source": [
    "# 6. 유형0 집중 분석\n",
    "\n",
    "### <체육활동 참여를 저해하는 요인>\n",
    "### (1) 접근성 및 정보 부족\n",
    "    체육활동 참여에 대한 의지는 있으나 니즈에 맞는 서비스가 없어서 & 정보가 없어서 참여하지 못하고 있는 것으로 보여짐\n",
    "- 관심있는 프로그램 부재, 정보 부족, 마땅한 시설이 없어서 참여를 못한다는 답변\n",
    "- 야외운동기구 및 공공시설 헬스장 등 전문적이지 않은 시설 이용중\n",
    "- 헬스, 골프, 수영 등 대체로 일반적인 종목만 참여\n",
    "- 정보 수집을 대중매체, 지인, 홍보물에 의존하며 인터넷 사용 비율 낮음\n",
    "### ⇒ 보다 다양하고 전문적인 시설과 프로그램을 제공하여 참여를 유도"
   ]
  },
  {
   "cell_type": "markdown",
   "id": "bc3cb7d6",
   "metadata": {},
   "source": [
    "### (2) 시간적 여유 부족\n",
    "- 직업이 있는 인원이 82.46%. 직장생활로 체육활동에 참여할 시간이 없는 것으로 보여짐\n",
    "- 고소득 집단으로 은퇴 후 경제력을 기반으로 활발한 활동을 할 것으로 예상됨\n",
    "### ⇒ 은퇴 후에 제공할 서비스 미리 준비"
   ]
  },
  {
   "cell_type": "markdown",
   "id": "ebbde16b",
   "metadata": {},
   "source": [
    "### <고급화 전략>\n",
    "    비용 부족에 대한 응답이 없는 것은 아니나 10~20%로 높지 않음 → 고급화 전략 가능\n",
    "- 골프 참여자 23.75%로 높은편. 고급 스포츠에 대한 부담감이 적을 것으로 예상\n",
    "- 현재 사용하고 있는 전문적이지 않은 공공시설이 아닌 전문적인 프로그램 & 프라이빗 시설 제공\n",
    "- 현재 체력상태가 (중)이므로 (상)으로 향상할 수 있는 전문 프로그램 제공\n",
    "### ⇒ 단순 체력 관리가 아닌 라이프스타일을 향상할 수 있는 고급 건강증진 서비스 제공"
   ]
  },
  {
   "cell_type": "code",
   "execution_count": 23,
   "id": "b70aff91",
   "metadata": {},
   "outputs": [
    {
     "data": {
      "text/plain": [
       "1    46.363636\n",
       "3    30.454545\n",
       "2    21.818182\n",
       "5     0.909091\n",
       "7     0.454545\n",
       "dtype: float64"
      ]
     },
     "execution_count": 23,
     "metadata": {},
     "output_type": "execute_result"
    }
   ],
   "source": [
    "# 체력관리 서비스를 이용하지 않는 이유\n",
    "# --> 1. 체력관리 방법에 대한 정보가 없거나, 지식이 없어서 못하고 있다\n",
    "# --> 3. 체력관리 방법을 알고 있으나, 마땅한 상담과 관리를 받을 만한 시설이나 프로그램이 없어서\n",
    "# --> 2. 체력관리 방법을 알고 있으나, 비용이 많이 들어 못하고 있다\n",
    "\n",
    "result = df0['Q1221'].value_counts()\n",
    "for column in df0.loc[:, 'Q1222': 'Q1224']:\n",
    "    result = result.add(df0[column].value_counts(), fill_value=0)\n",
    "result / result.sum() * 100"
   ]
  },
  {
   "cell_type": "code",
   "execution_count": 24,
   "id": "e0b34131",
   "metadata": {
    "scrolled": false
   },
   "outputs": [
    {
     "data": {
      "text/html": [
       "<div>\n",
       "<style scoped>\n",
       "    .dataframe tbody tr th:only-of-type {\n",
       "        vertical-align: middle;\n",
       "    }\n",
       "\n",
       "    .dataframe tbody tr th {\n",
       "        vertical-align: top;\n",
       "    }\n",
       "\n",
       "    .dataframe thead th {\n",
       "        text-align: right;\n",
       "    }\n",
       "</style>\n",
       "<table border=\"1\" class=\"dataframe\">\n",
       "  <thead>\n",
       "    <tr style=\"text-align: right;\">\n",
       "      <th></th>\n",
       "      <th>index</th>\n",
       "      <th>count</th>\n",
       "      <th>코드값</th>\n",
       "      <th>구분</th>\n",
       "      <th>코드명</th>\n",
       "    </tr>\n",
       "  </thead>\n",
       "  <tbody>\n",
       "    <tr>\n",
       "      <th>8</th>\n",
       "      <td>118</td>\n",
       "      <td>37.0</td>\n",
       "      <td>118</td>\n",
       "      <td>공공체육시설</td>\n",
       "      <td>간이운동장(야외운동기구)</td>\n",
       "    </tr>\n",
       "    <tr>\n",
       "      <th>24</th>\n",
       "      <td>503</td>\n",
       "      <td>34.0</td>\n",
       "      <td>503</td>\n",
       "      <td>기타체육시설</td>\n",
       "      <td>공공주택단지 체육시설(아파트 등)</td>\n",
       "    </tr>\n",
       "    <tr>\n",
       "      <th>7</th>\n",
       "      <td>117</td>\n",
       "      <td>34.0</td>\n",
       "      <td>117</td>\n",
       "      <td>공공체육시설</td>\n",
       "      <td>체력단련장</td>\n",
       "    </tr>\n",
       "    <tr>\n",
       "      <th>10</th>\n",
       "      <td>301</td>\n",
       "      <td>22.0</td>\n",
       "      <td>301</td>\n",
       "      <td>민간체육시설</td>\n",
       "      <td>골프연습장</td>\n",
       "    </tr>\n",
       "    <tr>\n",
       "      <th>11</th>\n",
       "      <td>302</td>\n",
       "      <td>16.0</td>\n",
       "      <td>302</td>\n",
       "      <td>민간체육시설</td>\n",
       "      <td>골프장</td>\n",
       "    </tr>\n",
       "    <tr>\n",
       "      <th>20</th>\n",
       "      <td>323</td>\n",
       "      <td>13.0</td>\n",
       "      <td>323</td>\n",
       "      <td>민간체육시설</td>\n",
       "      <td>스크린골프장</td>\n",
       "    </tr>\n",
       "    <tr>\n",
       "      <th>16</th>\n",
       "      <td>317</td>\n",
       "      <td>13.0</td>\n",
       "      <td>317</td>\n",
       "      <td>민간체육시설</td>\n",
       "      <td>체력단련장</td>\n",
       "    </tr>\n",
       "    <tr>\n",
       "      <th>3</th>\n",
       "      <td>110</td>\n",
       "      <td>9.0</td>\n",
       "      <td>110</td>\n",
       "      <td>공공체육시설</td>\n",
       "      <td>수영장</td>\n",
       "    </tr>\n",
       "    <tr>\n",
       "      <th>15</th>\n",
       "      <td>311</td>\n",
       "      <td>9.0</td>\n",
       "      <td>311</td>\n",
       "      <td>민간체육시설</td>\n",
       "      <td>수영장</td>\n",
       "    </tr>\n",
       "    <tr>\n",
       "      <th>23</th>\n",
       "      <td>502</td>\n",
       "      <td>8.0</td>\n",
       "      <td>502</td>\n",
       "      <td>기타체육시설</td>\n",
       "      <td>복지시설(노인복지시설, 노인대학, 경로당, 장애인시설,</td>\n",
       "    </tr>\n",
       "    <tr>\n",
       "      <th>0</th>\n",
       "      <td>101</td>\n",
       "      <td>6.0</td>\n",
       "      <td>101</td>\n",
       "      <td>공공체육시설</td>\n",
       "      <td>골프연습장</td>\n",
       "    </tr>\n",
       "    <tr>\n",
       "      <th>12</th>\n",
       "      <td>304</td>\n",
       "      <td>6.0</td>\n",
       "      <td>304</td>\n",
       "      <td>민간체육시설</td>\n",
       "      <td>당구장</td>\n",
       "    </tr>\n",
       "    <tr>\n",
       "      <th>22</th>\n",
       "      <td>501</td>\n",
       "      <td>5.0</td>\n",
       "      <td>501</td>\n",
       "      <td>기타체육시설</td>\n",
       "      <td>청소년체육시설(청소년수련원, 수련관, 유스호스텔 등)</td>\n",
       "    </tr>\n",
       "    <tr>\n",
       "      <th>9</th>\n",
       "      <td>119</td>\n",
       "      <td>4.0</td>\n",
       "      <td>119</td>\n",
       "      <td>공공체육시설</td>\n",
       "      <td>축구장</td>\n",
       "    </tr>\n",
       "    <tr>\n",
       "      <th>1</th>\n",
       "      <td>104</td>\n",
       "      <td>4.0</td>\n",
       "      <td>104</td>\n",
       "      <td>공공체육시설</td>\n",
       "      <td>당구장</td>\n",
       "    </tr>\n",
       "    <tr>\n",
       "      <th>14</th>\n",
       "      <td>308</td>\n",
       "      <td>4.0</td>\n",
       "      <td>308</td>\n",
       "      <td>민간체육시설</td>\n",
       "      <td>볼링장</td>\n",
       "    </tr>\n",
       "    <tr>\n",
       "      <th>5</th>\n",
       "      <td>115</td>\n",
       "      <td>4.0</td>\n",
       "      <td>115</td>\n",
       "      <td>공공체육시설</td>\n",
       "      <td>탁구장</td>\n",
       "    </tr>\n",
       "    <tr>\n",
       "      <th>6</th>\n",
       "      <td>116</td>\n",
       "      <td>2.0</td>\n",
       "      <td>116</td>\n",
       "      <td>공공체육시설</td>\n",
       "      <td>테니스장</td>\n",
       "    </tr>\n",
       "    <tr>\n",
       "      <th>18</th>\n",
       "      <td>320</td>\n",
       "      <td>2.0</td>\n",
       "      <td>320</td>\n",
       "      <td>민간체육시설</td>\n",
       "      <td>탁구장</td>\n",
       "    </tr>\n",
       "    <tr>\n",
       "      <th>19</th>\n",
       "      <td>321</td>\n",
       "      <td>2.0</td>\n",
       "      <td>321</td>\n",
       "      <td>민간체육시설</td>\n",
       "      <td>테니스장</td>\n",
       "    </tr>\n",
       "    <tr>\n",
       "      <th>21</th>\n",
       "      <td>324</td>\n",
       "      <td>2.0</td>\n",
       "      <td>324</td>\n",
       "      <td>민간체육시설</td>\n",
       "      <td>기타 가상체육시설</td>\n",
       "    </tr>\n",
       "    <tr>\n",
       "      <th>13</th>\n",
       "      <td>306</td>\n",
       "      <td>1.0</td>\n",
       "      <td>306</td>\n",
       "      <td>민간체육시설</td>\n",
       "      <td>무도장</td>\n",
       "    </tr>\n",
       "    <tr>\n",
       "      <th>17</th>\n",
       "      <td>319</td>\n",
       "      <td>1.0</td>\n",
       "      <td>319</td>\n",
       "      <td>민간체육시설</td>\n",
       "      <td>축구장</td>\n",
       "    </tr>\n",
       "    <tr>\n",
       "      <th>4</th>\n",
       "      <td>112</td>\n",
       "      <td>1.0</td>\n",
       "      <td>112</td>\n",
       "      <td>공공체육시설</td>\n",
       "      <td>야구장</td>\n",
       "    </tr>\n",
       "    <tr>\n",
       "      <th>2</th>\n",
       "      <td>107</td>\n",
       "      <td>1.0</td>\n",
       "      <td>107</td>\n",
       "      <td>공공체육시설</td>\n",
       "      <td>볼링장</td>\n",
       "    </tr>\n",
       "  </tbody>\n",
       "</table>\n",
       "</div>"
      ],
      "text/plain": [
       "    index  count  코드값      구분                             코드명\n",
       "8     118   37.0  118  공공체육시설                   간이운동장(야외운동기구)\n",
       "24    503   34.0  503  기타체육시설              공공주택단지 체육시설(아파트 등)\n",
       "7     117   34.0  117  공공체육시설                           체력단련장\n",
       "10    301   22.0  301  민간체육시설                           골프연습장\n",
       "11    302   16.0  302  민간체육시설                             골프장\n",
       "20    323   13.0  323  민간체육시설                          스크린골프장\n",
       "16    317   13.0  317  민간체육시설                           체력단련장\n",
       "3     110    9.0  110  공공체육시설                             수영장\n",
       "15    311    9.0  311  민간체육시설                             수영장\n",
       "23    502    8.0  502  기타체육시설  복지시설(노인복지시설, 노인대학, 경로당, 장애인시설,\n",
       "0     101    6.0  101  공공체육시설                           골프연습장\n",
       "12    304    6.0  304  민간체육시설                             당구장\n",
       "22    501    5.0  501  기타체육시설   청소년체육시설(청소년수련원, 수련관, 유스호스텔 등)\n",
       "9     119    4.0  119  공공체육시설                             축구장\n",
       "1     104    4.0  104  공공체육시설                             당구장\n",
       "14    308    4.0  308  민간체육시설                             볼링장\n",
       "5     115    4.0  115  공공체육시설                             탁구장\n",
       "6     116    2.0  116  공공체육시설                            테니스장\n",
       "18    320    2.0  320  민간체육시설                             탁구장\n",
       "19    321    2.0  321  민간체육시설                            테니스장\n",
       "21    324    2.0  324  민간체육시설                       기타 가상체육시설\n",
       "13    306    1.0  306  민간체육시설                             무도장\n",
       "17    319    1.0  319  민간체육시설                             축구장\n",
       "4     112    1.0  112  공공체육시설                             야구장\n",
       "2     107    1.0  107  공공체육시설                             볼링장"
      ]
     },
     "execution_count": 24,
     "metadata": {},
     "output_type": "execute_result"
    }
   ],
   "source": [
    "# 자주 이용하는 체육시설 유형\n",
    "\n",
    "result = df0['Q08101'].value_counts()\n",
    "for column in df0.loc[:, 'Q08102': 'Q08110']:\n",
    "    result = result.add(df0[column].value_counts(), fill_value=0)\n",
    "result = result.reset_index().rename(columns={0: 'count'}).astype({'index': 'int'})\n",
    "pd.merge(result, facility, left_on='index', right_on='코드값').sort_values('count', ascending=False)"
   ]
  },
  {
   "cell_type": "code",
   "execution_count": 25,
   "id": "dbfb0fdd",
   "metadata": {
    "scrolled": false
   },
   "outputs": [
    {
     "data": {
      "text/html": [
       "<div>\n",
       "<style scoped>\n",
       "    .dataframe tbody tr th:only-of-type {\n",
       "        vertical-align: middle;\n",
       "    }\n",
       "\n",
       "    .dataframe tbody tr th {\n",
       "        vertical-align: top;\n",
       "    }\n",
       "\n",
       "    .dataframe thead th {\n",
       "        text-align: right;\n",
       "    }\n",
       "</style>\n",
       "<table border=\"1\" class=\"dataframe\">\n",
       "  <thead>\n",
       "    <tr style=\"text-align: right;\">\n",
       "      <th></th>\n",
       "      <th>index</th>\n",
       "      <th>count</th>\n",
       "      <th>코드값</th>\n",
       "      <th>코드명</th>\n",
       "    </tr>\n",
       "  </thead>\n",
       "  <tbody>\n",
       "    <tr>\n",
       "      <th>10</th>\n",
       "      <td>405</td>\n",
       "      <td>28.0</td>\n",
       "      <td>405</td>\n",
       "      <td>수영</td>\n",
       "    </tr>\n",
       "    <tr>\n",
       "      <th>0</th>\n",
       "      <td>102</td>\n",
       "      <td>26.0</td>\n",
       "      <td>102</td>\n",
       "      <td>골프</td>\n",
       "    </tr>\n",
       "    <tr>\n",
       "      <th>9</th>\n",
       "      <td>404</td>\n",
       "      <td>20.0</td>\n",
       "      <td>404</td>\n",
       "      <td>보디빌딩</td>\n",
       "    </tr>\n",
       "    <tr>\n",
       "      <th>4</th>\n",
       "      <td>116</td>\n",
       "      <td>8.0</td>\n",
       "      <td>116</td>\n",
       "      <td>테니스</td>\n",
       "    </tr>\n",
       "    <tr>\n",
       "      <th>7</th>\n",
       "      <td>203</td>\n",
       "      <td>7.0</td>\n",
       "      <td>203</td>\n",
       "      <td>태권도</td>\n",
       "    </tr>\n",
       "    <tr>\n",
       "      <th>11</th>\n",
       "      <td>406</td>\n",
       "      <td>5.0</td>\n",
       "      <td>406</td>\n",
       "      <td>아쿠아 로빅, 수중발레</td>\n",
       "    </tr>\n",
       "    <tr>\n",
       "      <th>12</th>\n",
       "      <td>407</td>\n",
       "      <td>5.0</td>\n",
       "      <td>407</td>\n",
       "      <td>에어로빅</td>\n",
       "    </tr>\n",
       "    <tr>\n",
       "      <th>5</th>\n",
       "      <td>117</td>\n",
       "      <td>4.0</td>\n",
       "      <td>117</td>\n",
       "      <td>배드민턴</td>\n",
       "    </tr>\n",
       "    <tr>\n",
       "      <th>6</th>\n",
       "      <td>120</td>\n",
       "      <td>4.0</td>\n",
       "      <td>120</td>\n",
       "      <td>탁구</td>\n",
       "    </tr>\n",
       "    <tr>\n",
       "      <th>13</th>\n",
       "      <td>408</td>\n",
       "      <td>4.0</td>\n",
       "      <td>408</td>\n",
       "      <td>요가, 필라테스 ,태보</td>\n",
       "    </tr>\n",
       "    <tr>\n",
       "      <th>14</th>\n",
       "      <td>409</td>\n",
       "      <td>3.0</td>\n",
       "      <td>409</td>\n",
       "      <td>댄스 스포츠</td>\n",
       "    </tr>\n",
       "    <tr>\n",
       "      <th>3</th>\n",
       "      <td>113</td>\n",
       "      <td>2.0</td>\n",
       "      <td>113</td>\n",
       "      <td>볼링</td>\n",
       "    </tr>\n",
       "    <tr>\n",
       "      <th>1</th>\n",
       "      <td>106</td>\n",
       "      <td>2.0</td>\n",
       "      <td>106</td>\n",
       "      <td>축구, 풋살</td>\n",
       "    </tr>\n",
       "    <tr>\n",
       "      <th>15</th>\n",
       "      <td>412</td>\n",
       "      <td>1.0</td>\n",
       "      <td>412</td>\n",
       "      <td>체조</td>\n",
       "    </tr>\n",
       "    <tr>\n",
       "      <th>8</th>\n",
       "      <td>207</td>\n",
       "      <td>1.0</td>\n",
       "      <td>207</td>\n",
       "      <td>권투</td>\n",
       "    </tr>\n",
       "    <tr>\n",
       "      <th>2</th>\n",
       "      <td>112</td>\n",
       "      <td>1.0</td>\n",
       "      <td>112</td>\n",
       "      <td>당구, 포켓볼</td>\n",
       "    </tr>\n",
       "    <tr>\n",
       "      <th>16</th>\n",
       "      <td>601</td>\n",
       "      <td>1.0</td>\n",
       "      <td>601</td>\n",
       "      <td>등산</td>\n",
       "    </tr>\n",
       "  </tbody>\n",
       "</table>\n",
       "</div>"
      ],
      "text/plain": [
       "    index  count  코드값           코드명\n",
       "10    405   28.0  405            수영\n",
       "0     102   26.0  102            골프\n",
       "9     404   20.0  404          보디빌딩\n",
       "4     116    8.0  116           테니스\n",
       "7     203    7.0  203           태권도\n",
       "11    406    5.0  406  아쿠아 로빅, 수중발레\n",
       "12    407    5.0  407          에어로빅\n",
       "5     117    4.0  117          배드민턴\n",
       "6     120    4.0  120            탁구\n",
       "13    408    4.0  408  요가, 필라테스 ,태보\n",
       "14    409    3.0  409        댄스 스포츠\n",
       "3     113    2.0  113            볼링\n",
       "1     106    2.0  106        축구, 풋살\n",
       "15    412    1.0  412            체조\n",
       "8     207    1.0  207            권투\n",
       "2     112    1.0  112       당구, 포켓볼\n",
       "16    601    1.0  601            등산"
      ]
     },
     "execution_count": 25,
     "metadata": {},
     "output_type": "execute_result"
    }
   ],
   "source": [
    "# 생활체육 강좌 경험 종목\n",
    "\n",
    "result = df0['Q1111'].value_counts()\n",
    "for column in df0.loc[:, 'Q1112': 'Q1113']:\n",
    "    result = result.add(df0[column].value_counts(), fill_value=0)\n",
    "result = result.reset_index().rename(columns={0: 'count'}).astype({'index': 'int'})\n",
    "pd.merge(result, sports, left_on='index', right_on='코드값').sort_values('count', ascending=False)"
   ]
  },
  {
   "cell_type": "code",
   "execution_count": 26,
   "id": "93d4d885",
   "metadata": {
    "scrolled": true
   },
   "outputs": [
    {
     "data": {
      "text/plain": [
       "1    25.621891\n",
       "5    25.621891\n",
       "4    16.293532\n",
       "2    14.676617\n",
       "3    10.696517\n",
       "7     3.482587\n",
       "0     2.487562\n",
       "6     1.119403\n",
       "dtype: float64"
      ]
     },
     "execution_count": 26,
     "metadata": {},
     "output_type": "execute_result"
    }
   ],
   "source": [
    "# 생활체육 관련 정보 수집 경로\n",
    "# --> 1. 대중매체(신문, TV, 라디오 등) = 5. 가족과 지인 - 4. 체육시설/단체의 홍보 - 2. 인터넷 - 3. 지방자치단체의 홍보\n",
    "\n",
    "result = df0['Q131'].value_counts()\n",
    "\n",
    "for column in df0.loc[:, 'Q132': 'Q133']:\n",
    "    df0[column] = df0[column].fillna(0).astype('int')\n",
    "    result = result.add(df0[column].value_counts(), fill_value=0)\n",
    "result.sort_values(ascending=False) / 804 * 100"
   ]
  },
  {
   "cell_type": "code",
   "execution_count": 27,
   "id": "3f3c802a",
   "metadata": {},
   "outputs": [
    {
     "data": {
      "text/plain": [
       "1    59.322034\n",
       "3    24.858757\n",
       "2    11.864407\n",
       "4     2.824859\n",
       "6     1.129944\n",
       "dtype: float64"
      ]
     },
     "execution_count": 27,
     "metadata": {},
     "output_type": "execute_result"
    }
   ],
   "source": [
    "# 생활체육 강좌 경험이 없는 이유 --> 1. 시간적인 여유 부재 - 3. 관심있는 생활체육 프로그램 강습 부재 - 2. 금전적인 여유 부재 \n",
    "\n",
    "df0['Q1131'].value_counts().add(df0['Q1132'].value_counts(), fill_value=0) / 177 * 100"
   ]
  },
  {
   "cell_type": "code",
   "execution_count": 28,
   "id": "6f32ada6",
   "metadata": {
    "scrolled": false
   },
   "outputs": [
    {
     "data": {
      "text/plain": [
       "1     22.572178\n",
       "4     16.404199\n",
       "5     14.173228\n",
       "2     11.417323\n",
       "3     10.236220\n",
       "10     7.086614\n",
       "6      7.086614\n",
       "9      5.249344\n",
       "8      3.937008\n",
       "7      1.837270\n",
       "dtype: float64"
      ]
     },
     "execution_count": 28,
     "metadata": {},
     "output_type": "execute_result"
    }
   ],
   "source": [
    "# 체육활동 참여 증진을 위한 선행조건(참여자 & 비참여자)\n",
    "# --> 1. 체육활동시간 증가 4. 체육시설 접근성 확대 5. 건강상태 개선 2. 소득수준 증가 3. 체육활동 지출비용 여유\n",
    "\n",
    "result = df0['Q271'].value_counts()\n",
    "for column in df0.loc[:, ['Q272', 'Q273', 'Q301', 'Q302', 'Q303']]:\n",
    "    result = result.add(df0[column].value_counts(), fill_value=0)\n",
    "result.sort_values(ascending=False) / 762 * 100"
   ]
  },
  {
   "cell_type": "markdown",
   "id": "b104e34f",
   "metadata": {},
   "source": [
    "# 7. 유형3 집중 분석"
   ]
  },
  {
   "cell_type": "markdown",
   "id": "4f3f09ee",
   "metadata": {},
   "source": [
    "### <체육활동 참여를 저해하는 요인>\n",
    "### (1) 직장생활로 인한 시간 부족\n",
    "- 체육활동과 관련한 모든 문항에서 참여도가 가장 낮음. 건강상태가 좋지 않은 저소득층 유형2 보다도 낮음.\n",
    "- 체육활동에 참여하지 않는 이유를 묻는 모든 문항에서 ‘시간 여유 부족’이 압도적으로 높음\n",
    "- 직업이 있는 인원이 87.84%로 가장 많음. 직장생활로 체육활동에 참여할 시간이 없는 것으로 보여짐\n",
    "\n",
    "### (2) 금전적 여유 부족\n",
    "- 유형0도 직업이 있는 인원이 82.46%로 많지만, 채육활동 참여도는 유형3보다 훨씬 높음. 유형0은 고소득 집단이므로 상대적으로 여유가 있는 것으로 추정\n",
    "\n",
    "### ⇒ 시간적, 금전적 여유가 부족하므로 가볍게 실천할 수 있는 생활밀착형 운동 프로그램 제안\n",
    "- 현재는 시간적, 금전적 여유의 부재로 체육활동 참여를 유도하는 것은 어려울 것으로 보임. 부담 없이 가볍게 시작할 수 있는 간단한 활동부터 유도\n",
    "- 은퇴 후에는 체육활동에 활발하게 참여할 수 있는 잠재 고객이므로 지금부터 지속적인 접근 필요"
   ]
  },
  {
   "cell_type": "code",
   "execution_count": 29,
   "id": "dee4ef2b",
   "metadata": {
    "scrolled": true
   },
   "outputs": [
    {
     "data": {
      "image/png": "[encoded data removed]",
      "text/plain": [
       "<Figure size 1152x288 with 4 Axes>"
      ]
     },
     "metadata": {},
     "output_type": "display_data"
    }
   ],
   "source": [
    "# 자주 이용하는 체육시설 유형 --> '7. 이용하지 않는다'의 비율이 가장 높음\n",
    "\n",
    "DF = [df0, df1, df2, df3]\n",
    "plt.figure(figsize=(16, 4))\n",
    "\n",
    "for i, D in enumerate(DF):\n",
    "    plt.subplot(1, 4, i+1)\n",
    "    plt.title(f'cluster{i}')\n",
    "    plt.pie(D['Q08'].value_counts(), labels=D['Q08'].value_counts().index, autopct='%.2f%%')\n",
    "plt.show()"
   ]
  },
  {
   "cell_type": "code",
   "execution_count": 30,
   "id": "52210f0f",
   "metadata": {},
   "outputs": [
    {
     "data": {
      "text/plain": [
       "2    0.727273\n",
       "6    0.080808\n",
       "4    0.050505\n",
       "5    0.050505\n",
       "1    0.050505\n",
       "3    0.040404\n",
       "Name: Q083, dtype: float64"
      ]
     },
     "execution_count": 30,
     "metadata": {},
     "output_type": "execute_result"
    }
   ],
   "source": [
    "# 해당 체육시설을 자주 이용하지 않는 이유\n",
    "# --> 2. 시간적 여유가 없어서 - 6. 체육시설에 대한 정보가 없어서\n",
    "# --> 4. 체육시설이 전문적이지 않아서 - 5. 체육활동 프로그램이 다양하지 않아서 - 1. 거리가 멀어서\n",
    "\n",
    "df3['Q083'].value_counts(normalize=True)"
   ]
  },
  {
   "cell_type": "code",
   "execution_count": 31,
   "id": "30efaa35",
   "metadata": {},
   "outputs": [
    {
     "data": {
      "image/png": "[encoded data removed]",
      "text/plain": [
       "<Figure size 1152x288 with 4 Axes>"
      ]
     },
     "metadata": {},
     "output_type": "display_data"
    }
   ],
   "source": [
    "# 생활체육 관련 강좌, 강습 유무  --> '2. 없음'의 비율이 가장 높음\n",
    "\n",
    "DF = [df0, df1, df2, df3]\n",
    "plt.figure(figsize=(16, 4))\n",
    "\n",
    "for i, D in enumerate(DF):\n",
    "    plt.subplot(1, 4, i+1)\n",
    "    plt.title(f'cluster{i}')\n",
    "    plt.pie(D['Q11'].value_counts(), labels=[2, 1], autopct='%.2f%%')\n",
    "plt.show()"
   ]
  },
  {
   "cell_type": "code",
   "execution_count": 32,
   "id": "7401cf28",
   "metadata": {},
   "outputs": [
    {
     "data": {
      "text/plain": [
       "1    48.543689\n",
       "3    24.271845\n",
       "2    14.077670\n",
       "4    13.106796\n",
       "dtype: float64"
      ]
     },
     "execution_count": 32,
     "metadata": {},
     "output_type": "execute_result"
    }
   ],
   "source": [
    "# 생활체육 강좌, 강습 경험이 없는 이유\n",
    "# --> 1. 시간적인 여유 부재 - 3. 관심있는 생활체육 프로그램 강습 부재 - 2. 금전적인 여유 부재 - 4. 생활체육 강습을 받을 만한 시설 부재\n",
    "\n",
    "df3['Q1131'].value_counts().add(df3['Q1132'].value_counts(), fill_value=0) / 206 * 100"
   ]
  },
  {
   "cell_type": "code",
   "execution_count": 33,
   "id": "cb5aedd9",
   "metadata": {
    "scrolled": true
   },
   "outputs": [
    {
     "data": {
      "image/png": "[encoded data removed]",
      "text/plain": [
       "<Figure size 1152x288 with 4 Axes>"
      ]
     },
     "metadata": {},
     "output_type": "display_data"
    }
   ],
   "source": [
    "# 최근 1년간 규칙적 체육활동 참여 빈도  --> '1. 전혀하지 않는다'의 비율이 가장 높음\n",
    "\n",
    "DF = [df0, df1, df2, df3]\n",
    "plt.figure(figsize=(16, 4))\n",
    "\n",
    "for i, D in enumerate(DF):\n",
    "    plt.subplot(1, 4, i+1)\n",
    "    plt.title(f'cluster{i}')\n",
    "    plt.pie(D['Q16'].value_counts(), labels=D['Q16'].value_counts().index, autopct='%.2f%%')\n",
    "plt.show()"
   ]
  },
  {
   "cell_type": "code",
   "execution_count": 34,
   "id": "31eb33d2",
   "metadata": {},
   "outputs": [
    {
     "data": {
      "text/plain": [
       "1     26.315789\n",
       "9     18.596491\n",
       "4     13.333333\n",
       "7     10.175439\n",
       "3      8.771930\n",
       "10     5.614035\n",
       "6      5.263158\n",
       "11     4.561404\n",
       "2      3.508772\n",
       "8      2.105263\n",
       "5      1.403509\n",
       "19     0.350877\n",
       "dtype: float64"
      ]
     },
     "execution_count": 34,
     "metadata": {},
     "output_type": "execute_result"
    }
   ],
   "source": [
    "# 규칙적으로 참여하지 않은 이유\n",
    "# --> 1. 체육활동 가능시간 부족 - 9. 체육활동에 대한 관심 부족 - 4. 체육시설 접근성 낮음 - 7. 체육활동 정보 부족\n",
    "\n",
    "result = df3['Q2911'].value_counts()\n",
    "for column in df3.loc[:, ['Q2912', 'Q2913', 'Q2921', 'Q2922', 'Q2923']]:\n",
    "    result = result.add(df3[column].value_counts(), fill_value=0)\n",
    "result.sort_values(ascending=False) / 285 * 100"
   ]
  },
  {
   "cell_type": "code",
   "execution_count": 35,
   "id": "a3ed6c25",
   "metadata": {},
   "outputs": [
    {
     "data": {
      "text/plain": [
       "1     22.021116\n",
       "4     15.987934\n",
       "3     13.725490\n",
       "2     10.558069\n",
       "5     10.407240\n",
       "10     6.938160\n",
       "9      6.485671\n",
       "6      6.033183\n",
       "8      5.580694\n",
       "7      2.262443\n",
       "dtype: float64"
      ]
     },
     "execution_count": 35,
     "metadata": {},
     "output_type": "execute_result"
    }
   ],
   "source": [
    "# 체육활동 참여 증진을 위한 선행조건(참여자 & 비참여자)\n",
    "# --> 1. 체육활동시간 증가 - 4. 체육시설 접근성 확대 - 3. 체육활동 지출비용 여유 - 2. 소득수준 증가 - 5. 건강상태 개선\n",
    "\n",
    "result = df3['Q271'].value_counts()\n",
    "for column in df3.loc[:, ['Q272', 'Q273', 'Q301', 'Q302', 'Q303']]:\n",
    "    result = result.add(df3[column].value_counts(), fill_value=0)\n",
    "result.sort_values(ascending=False) / 663 * 100"
   ]
  },
  {
   "cell_type": "code",
   "execution_count": 36,
   "id": "c9f66315",
   "metadata": {
    "scrolled": false
   },
   "outputs": [
    {
     "data": {
      "image/png": "[encoded data removed]",
      "text/plain": [
       "<Figure size 1152x288 with 4 Axes>"
      ]
     },
     "metadata": {},
     "output_type": "display_data"
    }
   ],
   "source": [
    "# 시간적 여유가 없는 이유가 뭘까? --> 직업을 가진 비율이 높음 & 비슷한 비율인 유형0 비해 소득이 높지 않아 여유가 더 없을 것으로 예상\n",
    "# 유형별 직업 유무\n",
    "\n",
    "DF = [df0, df1, df2, df3]\n",
    "plt.figure(figsize=(16, 4))\n",
    "\n",
    "for i, D in enumerate(DF):\n",
    "    plt.subplot(1, 4, i+1)\n",
    "    plt.title(f'cluster{i}')\n",
    "    plt.pie(D['JOB'].value_counts(), labels=[1, 2], autopct='%.2f%%')\n",
    "plt.show()"
   ]
  },
  {
   "cell_type": "markdown",
   "id": "8b49e066",
   "metadata": {},
   "source": [
    "# 8. 한계점 및 느낀점\n",
    "- 신노년세대가 아닌 전체 연령을 대상으로한 설문조사라서 데이터 개수가 적었으며 신노년세대의 특성을 완전하게 파악하기는 어려웠음\n",
    "- 한정된 자료였지만 군집화가 잘 되었고 유형별 특성도 두드러지게 나타나서 분석을 잘 진행할 수 있었음"
   ]
  },
  {
   "cell_type": "markdown",
   "id": "8df698c5",
   "metadata": {},
   "source": [
    "# 9. 참고 문헌\n",
    "- 2022 고령자 통계(통계청, 2022)\n",
    "- 현재 노인 인구 만한 730만 베이비부머···고령화 쓰나미 온다(중앙일보, 2020)\n",
    "- 신노년세대를 위한 노인일자리 개편방안 연구(한국노인인력개발원, 2020)"
   ]
  }
 ],
 "metadata": {
  "kernelspec": {
   "display_name": "Python 3 (ipykernel)",
   "language": "python",
   "name": "python3"
  },
  "language_info": {
   "codemirror_mode": {
    "name": "ipython",
    "version": 3
   },
   "file_extension": ".py",
   "mimetype": "text/x-python",
   "name": "python",
   "nbconvert_exporter": "python",
   "pygments_lexer": "ipython3",
   "version": "3.9.13"
  }
 },
 "nbformat": 4,
 "nbformat_minor": 5
}
