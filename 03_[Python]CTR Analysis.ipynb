{
 "cells": [
  {
   "cell_type": "markdown",
   "id": "1e5c9c45",
   "metadata": {},
   "source": [
    "# 👩‍💻 개인 프로젝트(기여도 100%)"
   ]
  },
  {
   "cell_type": "markdown",
   "id": "d1e9b4b4",
   "metadata": {},
   "source": [
    "# 📑 활용 데이터 - Kaggle 'CTR In Advertisement'\n",
    "\n",
    "- 세션 정보, 고객 정보, 웹페이지 정보, 캠페인 정보, 클릭 여부 정보 제공"
   ]
  },
  {
   "cell_type": "markdown",
   "id": "1aff10f9",
   "metadata": {},
   "source": [
    "# 1. 라이브러리 임포트"
   ]
  },
  {
   "cell_type": "code",
   "execution_count": 1,
   "id": "3817993b",
   "metadata": {},
   "outputs": [],
   "source": [
    "import pandas as pd\n",
    "from matplotlib import pyplot as plt\n",
    "import seaborn as sns\n",
    "sns.set_palette(sns.color_palette('husl'))\n",
    "\n",
    "from scipy.stats import chi2_contingency\n",
    "from scipy.stats.contingency import association\n",
    "from scipy.stats import levene\n",
    "from scipy.stats import ttest_ind\n",
    "\n",
    "import warnings\n",
    "warnings.filterwarnings('ignore')"
   ]
  },
  {
   "cell_type": "markdown",
   "id": "3b4df2ac",
   "metadata": {},
   "source": [
    "# 2. 데이터 전처리"
   ]
  },
  {
   "cell_type": "code",
   "execution_count": 2,
   "id": "34b75cb6",
   "metadata": {
    "scrolled": false
   },
   "outputs": [
    {
     "data": {
      "text/html": [
       "<div>\n",
       "<style scoped>\n",
       "    .dataframe tbody tr th:only-of-type {\n",
       "        vertical-align: middle;\n",
       "    }\n",
       "\n",
       "    .dataframe tbody tr th {\n",
       "        vertical-align: top;\n",
       "    }\n",
       "\n",
       "    .dataframe thead th {\n",
       "        text-align: right;\n",
       "    }\n",
       "</style>\n",
       "<table border=\"1\" class=\"dataframe\">\n",
       "  <thead>\n",
       "    <tr style=\"text-align: right;\">\n",
       "      <th></th>\n",
       "      <th>session_id</th>\n",
       "      <th>DateTime</th>\n",
       "      <th>user_id</th>\n",
       "      <th>product</th>\n",
       "      <th>campaign_id</th>\n",
       "      <th>webpage_id</th>\n",
       "      <th>product_category_1</th>\n",
       "      <th>product_category_2</th>\n",
       "      <th>user_group_id</th>\n",
       "      <th>gender</th>\n",
       "      <th>age_level</th>\n",
       "      <th>user_depth</th>\n",
       "      <th>city_development_index</th>\n",
       "      <th>var_1</th>\n",
       "      <th>is_click</th>\n",
       "    </tr>\n",
       "  </thead>\n",
       "  <tbody>\n",
       "    <tr>\n",
       "      <th>0</th>\n",
       "      <td>140690</td>\n",
       "      <td>2017-07-02 00:00</td>\n",
       "      <td>858557</td>\n",
       "      <td>C</td>\n",
       "      <td>359520</td>\n",
       "      <td>13787</td>\n",
       "      <td>4</td>\n",
       "      <td>NaN</td>\n",
       "      <td>10.0</td>\n",
       "      <td>Female</td>\n",
       "      <td>4.0</td>\n",
       "      <td>3.0</td>\n",
       "      <td>3.0</td>\n",
       "      <td>0</td>\n",
       "      <td>0</td>\n",
       "    </tr>\n",
       "    <tr>\n",
       "      <th>1</th>\n",
       "      <td>333291</td>\n",
       "      <td>2017-07-02 00:00</td>\n",
       "      <td>243253</td>\n",
       "      <td>C</td>\n",
       "      <td>105960</td>\n",
       "      <td>11085</td>\n",
       "      <td>5</td>\n",
       "      <td>NaN</td>\n",
       "      <td>8.0</td>\n",
       "      <td>Female</td>\n",
       "      <td>2.0</td>\n",
       "      <td>2.0</td>\n",
       "      <td>NaN</td>\n",
       "      <td>0</td>\n",
       "      <td>0</td>\n",
       "    </tr>\n",
       "  </tbody>\n",
       "</table>\n",
       "</div>"
      ],
      "text/plain": [
       "   session_id          DateTime  user_id product  campaign_id  webpage_id  \\\n",
       "0      140690  2017-07-02 00:00   858557       C       359520       13787   \n",
       "1      333291  2017-07-02 00:00   243253       C       105960       11085   \n",
       "\n",
       "   product_category_1  product_category_2  user_group_id  gender  age_level  \\\n",
       "0                   4                 NaN           10.0  Female        4.0   \n",
       "1                   5                 NaN            8.0  Female        2.0   \n",
       "\n",
       "   user_depth  city_development_index  var_1  is_click  \n",
       "0         3.0                     3.0      0         0  \n",
       "1         2.0                     NaN      0         0  "
      ]
     },
     "execution_count": 2,
     "metadata": {},
     "output_type": "execute_result"
    }
   ],
   "source": [
    "# 데이터 불러오기\n",
    "\n",
    "df = pd.read_csv('./data/Ad_click_prediction_train.csv')\n",
    "df.head(2)"
   ]
  },
  {
   "cell_type": "code",
   "execution_count": 3,
   "id": "9de37ffd",
   "metadata": {},
   "outputs": [],
   "source": [
    "# 중복 제거\n",
    "\n",
    "df = df.drop_duplicates()"
   ]
  },
  {
   "cell_type": "code",
   "execution_count": 4,
   "id": "8e15ab1e",
   "metadata": {
    "scrolled": true
   },
   "outputs": [
    {
     "data": {
      "text/plain": [
       "session_id                     0\n",
       "DateTime                       0\n",
       "user_id                        0\n",
       "product                        0\n",
       "campaign_id                    0\n",
       "webpage_id                     0\n",
       "product_category_1             0\n",
       "product_category_2        365854\n",
       "user_group_id              18243\n",
       "gender                     18243\n",
       "age_level                  18243\n",
       "user_depth                 18243\n",
       "city_development_index    125129\n",
       "var_1                          0\n",
       "is_click                       0\n",
       "dtype: int64"
      ]
     },
     "execution_count": 4,
     "metadata": {},
     "output_type": "execute_result"
    }
   ],
   "source": [
    "# 결측치 확인\n",
    "\n",
    "df.isna().sum()"
   ]
  },
  {
   "cell_type": "code",
   "execution_count": 5,
   "id": "338d4363",
   "metadata": {},
   "outputs": [],
   "source": [
    "# user_group_id, gender, age_level, user_depth가 결측치인 데이터 제거\n",
    "\n",
    "df = df[df['user_group_id'].notna()]"
   ]
  },
  {
   "cell_type": "code",
   "execution_count": 6,
   "id": "861a07ef",
   "metadata": {
    "scrolled": true
   },
   "outputs": [
    {
     "data": {
      "text/plain": [
       "session_id                     0\n",
       "DateTime                       0\n",
       "user_id                        0\n",
       "product                        0\n",
       "campaign_id                    0\n",
       "webpage_id                     0\n",
       "product_category_1             0\n",
       "product_category_2        351379\n",
       "user_group_id                  0\n",
       "gender                         0\n",
       "age_level                      0\n",
       "user_depth                     0\n",
       "city_development_index    106886\n",
       "var_1                          0\n",
       "is_click                       0\n",
       "dtype: int64"
      ]
     },
     "execution_count": 6,
     "metadata": {},
     "output_type": "execute_result"
    }
   ],
   "source": [
    "df.isna().sum()"
   ]
  },
  {
   "cell_type": "code",
   "execution_count": 7,
   "id": "0bd34b71",
   "metadata": {},
   "outputs": [],
   "source": [
    "# DateTime 컬럼을 날짜 형식으로 변경\n",
    "\n",
    "df['DateTime'] = pd.to_datetime(df['DateTime'])"
   ]
  },
  {
   "cell_type": "code",
   "execution_count": 8,
   "id": "1057d5e3",
   "metadata": {},
   "outputs": [],
   "source": [
    "# 시간 컬럼 추가\n",
    "\n",
    "df['hour'] = df['DateTime'].dt.hour"
   ]
  },
  {
   "cell_type": "code",
   "execution_count": 9,
   "id": "f4a15c08",
   "metadata": {},
   "outputs": [
    {
     "data": {
      "text/html": [
       "<div>\n",
       "<style scoped>\n",
       "    .dataframe tbody tr th:only-of-type {\n",
       "        vertical-align: middle;\n",
       "    }\n",
       "\n",
       "    .dataframe tbody tr th {\n",
       "        vertical-align: top;\n",
       "    }\n",
       "\n",
       "    .dataframe thead th {\n",
       "        text-align: right;\n",
       "    }\n",
       "</style>\n",
       "<table border=\"1\" class=\"dataframe\">\n",
       "  <thead>\n",
       "    <tr style=\"text-align: right;\">\n",
       "      <th>webpage_id</th>\n",
       "      <th>1734</th>\n",
       "      <th>6970</th>\n",
       "      <th>11085</th>\n",
       "      <th>13787</th>\n",
       "      <th>28529</th>\n",
       "      <th>45962</th>\n",
       "      <th>51181</th>\n",
       "      <th>53587</th>\n",
       "      <th>60305</th>\n",
       "    </tr>\n",
       "    <tr>\n",
       "      <th>campaign_id</th>\n",
       "      <th></th>\n",
       "      <th></th>\n",
       "      <th></th>\n",
       "      <th></th>\n",
       "      <th></th>\n",
       "      <th></th>\n",
       "      <th></th>\n",
       "      <th></th>\n",
       "      <th></th>\n",
       "    </tr>\n",
       "  </thead>\n",
       "  <tbody>\n",
       "    <tr>\n",
       "      <th>82320</th>\n",
       "      <td>26016</td>\n",
       "      <td>0</td>\n",
       "      <td>0</td>\n",
       "      <td>0</td>\n",
       "      <td>0</td>\n",
       "      <td>0</td>\n",
       "      <td>0</td>\n",
       "      <td>0</td>\n",
       "      <td>0</td>\n",
       "    </tr>\n",
       "    <tr>\n",
       "      <th>98970</th>\n",
       "      <td>0</td>\n",
       "      <td>33904</td>\n",
       "      <td>0</td>\n",
       "      <td>0</td>\n",
       "      <td>0</td>\n",
       "      <td>0</td>\n",
       "      <td>0</td>\n",
       "      <td>0</td>\n",
       "      <td>0</td>\n",
       "    </tr>\n",
       "    <tr>\n",
       "      <th>105960</th>\n",
       "      <td>0</td>\n",
       "      <td>0</td>\n",
       "      <td>24873</td>\n",
       "      <td>0</td>\n",
       "      <td>0</td>\n",
       "      <td>0</td>\n",
       "      <td>0</td>\n",
       "      <td>0</td>\n",
       "      <td>0</td>\n",
       "    </tr>\n",
       "    <tr>\n",
       "      <th>118601</th>\n",
       "      <td>0</td>\n",
       "      <td>0</td>\n",
       "      <td>0</td>\n",
       "      <td>0</td>\n",
       "      <td>34822</td>\n",
       "      <td>0</td>\n",
       "      <td>0</td>\n",
       "      <td>0</td>\n",
       "      <td>0</td>\n",
       "    </tr>\n",
       "    <tr>\n",
       "      <th>359520</th>\n",
       "      <td>0</td>\n",
       "      <td>0</td>\n",
       "      <td>0</td>\n",
       "      <td>104544</td>\n",
       "      <td>0</td>\n",
       "      <td>0</td>\n",
       "      <td>0</td>\n",
       "      <td>0</td>\n",
       "      <td>0</td>\n",
       "    </tr>\n",
       "    <tr>\n",
       "      <th>360936</th>\n",
       "      <td>0</td>\n",
       "      <td>0</td>\n",
       "      <td>0</td>\n",
       "      <td>50048</td>\n",
       "      <td>0</td>\n",
       "      <td>0</td>\n",
       "      <td>0</td>\n",
       "      <td>0</td>\n",
       "      <td>0</td>\n",
       "    </tr>\n",
       "    <tr>\n",
       "      <th>396664</th>\n",
       "      <td>0</td>\n",
       "      <td>0</td>\n",
       "      <td>0</td>\n",
       "      <td>0</td>\n",
       "      <td>0</td>\n",
       "      <td>0</td>\n",
       "      <td>23241</td>\n",
       "      <td>0</td>\n",
       "      <td>0</td>\n",
       "    </tr>\n",
       "    <tr>\n",
       "      <th>404347</th>\n",
       "      <td>0</td>\n",
       "      <td>0</td>\n",
       "      <td>0</td>\n",
       "      <td>0</td>\n",
       "      <td>0</td>\n",
       "      <td>0</td>\n",
       "      <td>0</td>\n",
       "      <td>27376</td>\n",
       "      <td>0</td>\n",
       "    </tr>\n",
       "    <tr>\n",
       "      <th>405490</th>\n",
       "      <td>0</td>\n",
       "      <td>0</td>\n",
       "      <td>0</td>\n",
       "      <td>0</td>\n",
       "      <td>0</td>\n",
       "      <td>0</td>\n",
       "      <td>0</td>\n",
       "      <td>0</td>\n",
       "      <td>92168</td>\n",
       "    </tr>\n",
       "    <tr>\n",
       "      <th>414149</th>\n",
       "      <td>0</td>\n",
       "      <td>0</td>\n",
       "      <td>0</td>\n",
       "      <td>0</td>\n",
       "      <td>0</td>\n",
       "      <td>28056</td>\n",
       "      <td>0</td>\n",
       "      <td>0</td>\n",
       "      <td>0</td>\n",
       "    </tr>\n",
       "  </tbody>\n",
       "</table>\n",
       "</div>"
      ],
      "text/plain": [
       "webpage_id   1734   6970   11085   13787  28529  45962  51181  53587  60305\n",
       "campaign_id                                                                \n",
       "82320        26016      0      0       0      0      0      0      0      0\n",
       "98970            0  33904      0       0      0      0      0      0      0\n",
       "105960           0      0  24873       0      0      0      0      0      0\n",
       "118601           0      0      0       0  34822      0      0      0      0\n",
       "359520           0      0      0  104544      0      0      0      0      0\n",
       "360936           0      0      0   50048      0      0      0      0      0\n",
       "396664           0      0      0       0      0      0  23241      0      0\n",
       "404347           0      0      0       0      0      0      0  27376      0\n",
       "405490           0      0      0       0      0      0      0      0  92168\n",
       "414149           0      0      0       0      0  28056      0      0      0"
      ]
     },
     "execution_count": 9,
     "metadata": {},
     "output_type": "execute_result"
    }
   ],
   "source": [
    "# webpage_id & campaign_id 관계 확인 --> webpage_id 13787에는 2개의 campaign이 존재, 나머지는 모두 1개의 campaign만 존재\n",
    "\n",
    "pd.crosstab(df['campaign_id'], df['webpage_id'])"
   ]
  },
  {
   "cell_type": "code",
   "execution_count": 10,
   "id": "188443d4",
   "metadata": {},
   "outputs": [],
   "source": [
    "# 분석에 필요한 컬럼만 남기기 --> feature 10개, label 1개\n",
    "\n",
    "df = df[['user_id', 'user_group_id', 'user_depth', 'gender', 'age_level',\n",
    "         'hour', 'product', 'webpage_id', 'campaign_id', 'var_1', 'is_click']]"
   ]
  },
  {
   "cell_type": "code",
   "execution_count": 11,
   "id": "ac1fb99f",
   "metadata": {},
   "outputs": [
    {
     "data": {
      "text/html": [
       "<div>\n",
       "<style scoped>\n",
       "    .dataframe tbody tr th:only-of-type {\n",
       "        vertical-align: middle;\n",
       "    }\n",
       "\n",
       "    .dataframe tbody tr th {\n",
       "        vertical-align: top;\n",
       "    }\n",
       "\n",
       "    .dataframe thead th {\n",
       "        text-align: right;\n",
       "    }\n",
       "</style>\n",
       "<table border=\"1\" class=\"dataframe\">\n",
       "  <thead>\n",
       "    <tr style=\"text-align: right;\">\n",
       "      <th></th>\n",
       "      <th>user_id</th>\n",
       "      <th>user_group_id</th>\n",
       "      <th>user_depth</th>\n",
       "      <th>gender</th>\n",
       "      <th>age_level</th>\n",
       "      <th>hour</th>\n",
       "      <th>product</th>\n",
       "      <th>webpage_id</th>\n",
       "      <th>campaign_id</th>\n",
       "      <th>var_1</th>\n",
       "      <th>is_click</th>\n",
       "    </tr>\n",
       "  </thead>\n",
       "  <tbody>\n",
       "    <tr>\n",
       "      <th>0</th>\n",
       "      <td>858557</td>\n",
       "      <td>10.0</td>\n",
       "      <td>3.0</td>\n",
       "      <td>Female</td>\n",
       "      <td>4.0</td>\n",
       "      <td>0</td>\n",
       "      <td>C</td>\n",
       "      <td>13787</td>\n",
       "      <td>359520</td>\n",
       "      <td>0</td>\n",
       "      <td>0</td>\n",
       "    </tr>\n",
       "    <tr>\n",
       "      <th>1</th>\n",
       "      <td>243253</td>\n",
       "      <td>8.0</td>\n",
       "      <td>2.0</td>\n",
       "      <td>Female</td>\n",
       "      <td>2.0</td>\n",
       "      <td>0</td>\n",
       "      <td>C</td>\n",
       "      <td>11085</td>\n",
       "      <td>105960</td>\n",
       "      <td>0</td>\n",
       "      <td>0</td>\n",
       "    </tr>\n",
       "  </tbody>\n",
       "</table>\n",
       "</div>"
      ],
      "text/plain": [
       "   user_id  user_group_id  user_depth  gender  age_level  hour product  \\\n",
       "0   858557           10.0         3.0  Female        4.0     0       C   \n",
       "1   243253            8.0         2.0  Female        2.0     0       C   \n",
       "\n",
       "   webpage_id  campaign_id  var_1  is_click  \n",
       "0       13787       359520      0         0  \n",
       "1       11085       105960      0         0  "
      ]
     },
     "execution_count": 11,
     "metadata": {},
     "output_type": "execute_result"
    }
   ],
   "source": [
    "# 최종 데이터 확인\n",
    "\n",
    "df.head(2)"
   ]
  },
  {
   "cell_type": "markdown",
   "id": "d12d9cc7",
   "metadata": {},
   "source": [
    "# 3. session별 CTR\n",
    "광고를 본 사용자가 해당 광고를 클릭하는 빈도(클릭수 / 노출수)"
   ]
  },
  {
   "cell_type": "code",
   "execution_count": 12,
   "id": "0010fc17",
   "metadata": {
    "scrolled": true
   },
   "outputs": [
    {
     "data": {
      "text/plain": [
       "6.75"
      ]
     },
     "execution_count": 12,
     "metadata": {},
     "output_type": "execute_result"
    }
   ],
   "source": [
    "# 6.75%로 매우 높음\n",
    "\n",
    "round(df['is_click'].sum() / len(df) * 100, 2)"
   ]
  },
  {
   "cell_type": "code",
   "execution_count": 13,
   "id": "91e8b1cc",
   "metadata": {},
   "outputs": [
    {
     "data": {
      "text/html": [
       "<div>\n",
       "<style scoped>\n",
       "    .dataframe tbody tr th:only-of-type {\n",
       "        vertical-align: middle;\n",
       "    }\n",
       "\n",
       "    .dataframe tbody tr th {\n",
       "        vertical-align: top;\n",
       "    }\n",
       "\n",
       "    .dataframe thead th {\n",
       "        text-align: right;\n",
       "    }\n",
       "</style>\n",
       "<table border=\"1\" class=\"dataframe\">\n",
       "  <thead>\n",
       "    <tr style=\"text-align: right;\">\n",
       "      <th></th>\n",
       "      <th>feature</th>\n",
       "      <th>Cramer's V</th>\n",
       "      <th>p-value</th>\n",
       "      <th>correlation</th>\n",
       "    </tr>\n",
       "  </thead>\n",
       "  <tbody>\n",
       "    <tr>\n",
       "      <th>0</th>\n",
       "      <td>user_id</td>\n",
       "      <td>0.636212</td>\n",
       "      <td>0.0000</td>\n",
       "      <td>O</td>\n",
       "    </tr>\n",
       "    <tr>\n",
       "      <th>8</th>\n",
       "      <td>campaign_id</td>\n",
       "      <td>0.059529</td>\n",
       "      <td>0.0000</td>\n",
       "      <td>O</td>\n",
       "    </tr>\n",
       "    <tr>\n",
       "      <th>7</th>\n",
       "      <td>webpage_id</td>\n",
       "      <td>0.057661</td>\n",
       "      <td>0.0000</td>\n",
       "      <td>O</td>\n",
       "    </tr>\n",
       "    <tr>\n",
       "      <th>6</th>\n",
       "      <td>product</td>\n",
       "      <td>0.026463</td>\n",
       "      <td>0.0000</td>\n",
       "      <td>O</td>\n",
       "    </tr>\n",
       "    <tr>\n",
       "      <th>1</th>\n",
       "      <td>user_group_id</td>\n",
       "      <td>0.021616</td>\n",
       "      <td>0.0000</td>\n",
       "      <td>O</td>\n",
       "    </tr>\n",
       "    <tr>\n",
       "      <th>4</th>\n",
       "      <td>age_level</td>\n",
       "      <td>0.020995</td>\n",
       "      <td>0.0000</td>\n",
       "      <td>O</td>\n",
       "    </tr>\n",
       "    <tr>\n",
       "      <th>5</th>\n",
       "      <td>hour</td>\n",
       "      <td>0.013043</td>\n",
       "      <td>0.0000</td>\n",
       "      <td>O</td>\n",
       "    </tr>\n",
       "    <tr>\n",
       "      <th>9</th>\n",
       "      <td>var_1</td>\n",
       "      <td>0.011910</td>\n",
       "      <td>0.0000</td>\n",
       "      <td>O</td>\n",
       "    </tr>\n",
       "    <tr>\n",
       "      <th>3</th>\n",
       "      <td>gender</td>\n",
       "      <td>0.004460</td>\n",
       "      <td>0.0030</td>\n",
       "      <td>O</td>\n",
       "    </tr>\n",
       "    <tr>\n",
       "      <th>2</th>\n",
       "      <td>user_depth</td>\n",
       "      <td>0.003542</td>\n",
       "      <td>0.0613</td>\n",
       "      <td>X</td>\n",
       "    </tr>\n",
       "  </tbody>\n",
       "</table>\n",
       "</div>"
      ],
      "text/plain": [
       "         feature  Cramer's V  p-value correlation\n",
       "0        user_id    0.636212   0.0000           O\n",
       "8    campaign_id    0.059529   0.0000           O\n",
       "7     webpage_id    0.057661   0.0000           O\n",
       "6        product    0.026463   0.0000           O\n",
       "1  user_group_id    0.021616   0.0000           O\n",
       "4      age_level    0.020995   0.0000           O\n",
       "5           hour    0.013043   0.0000           O\n",
       "9          var_1    0.011910   0.0000           O\n",
       "3         gender    0.004460   0.0030           O\n",
       "2     user_depth    0.003542   0.0613           X"
      ]
     },
     "execution_count": 13,
     "metadata": {},
     "output_type": "execute_result"
    }
   ],
   "source": [
    "# 어떤 feature가 is_click과 연관이 있을까?\n",
    "# feature가 모두 범주형 변수이므로 카이제곱독립성 검정 & Cramer's V 상관계수 분석으로 확인\n",
    "# Cramer's V 상관계수가 높은 순서(상관관계가 높은 순서)로 정렬\n",
    "# --> user_depth를 제외한 모든 변수가 is_click과 상관관계가 있으며 user_id가 가장 높은 연관성을 보임\n",
    "\n",
    "features = df.columns[:-1]\n",
    "data = []\n",
    "\n",
    "for feature in features:\n",
    "    chi2 = chi2_contingency(pd.crosstab(df[feature], df['is_click']))\n",
    "    cramer = association(pd.crosstab(df[feature], df['is_click']), method='cramer')\n",
    "    if chi2[1] <= 0.05:\n",
    "        data.append({'feature': feature, \"Cramer's V\": cramer, 'p-value': round(chi2[1], 4), 'correlation': 'O'})\n",
    "    else:\n",
    "        data.append({'feature': feature, \"Cramer's V\": cramer, 'p-value': round(chi2[1], 4), 'correlation': 'X'})\n",
    "\n",
    "pd.DataFrame(data).sort_values(\"Cramer's V\", ascending=False)"
   ]
  },
  {
   "cell_type": "code",
   "execution_count": 14,
   "id": "7f8730ce",
   "metadata": {},
   "outputs": [],
   "source": [
    "# is_click과 관련 없는 user_depth 삭제\n",
    "\n",
    "df.drop(columns=['user_depth'], inplace=True)"
   ]
  },
  {
   "cell_type": "markdown",
   "id": "7d7da0fb",
   "metadata": {},
   "source": [
    "# 4. user별 CTR\n",
    "개별 사용자의 클릭률(클릭수 / 사용자에게 노출된 광고수)\n",
    "\n",
    "## (1) EDA"
   ]
  },
  {
   "cell_type": "code",
   "execution_count": 15,
   "id": "cb0b782c",
   "metadata": {
    "scrolled": true
   },
   "outputs": [
    {
     "data": {
      "text/html": [
       "<div>\n",
       "<style scoped>\n",
       "    .dataframe tbody tr th:only-of-type {\n",
       "        vertical-align: middle;\n",
       "    }\n",
       "\n",
       "    .dataframe tbody tr th {\n",
       "        vertical-align: top;\n",
       "    }\n",
       "\n",
       "    .dataframe thead th {\n",
       "        text-align: right;\n",
       "    }\n",
       "</style>\n",
       "<table border=\"1\" class=\"dataframe\">\n",
       "  <thead>\n",
       "    <tr style=\"text-align: right;\">\n",
       "      <th></th>\n",
       "      <th>user_id</th>\n",
       "      <th>gender</th>\n",
       "      <th>impressions</th>\n",
       "      <th>clicks</th>\n",
       "      <th>ctr</th>\n",
       "    </tr>\n",
       "  </thead>\n",
       "  <tbody>\n",
       "    <tr>\n",
       "      <th>0</th>\n",
       "      <td>4</td>\n",
       "      <td>Female</td>\n",
       "      <td>1</td>\n",
       "      <td>0</td>\n",
       "      <td>0.0</td>\n",
       "    </tr>\n",
       "    <tr>\n",
       "      <th>1</th>\n",
       "      <td>6</td>\n",
       "      <td>Male</td>\n",
       "      <td>1</td>\n",
       "      <td>0</td>\n",
       "      <td>0.0</td>\n",
       "    </tr>\n",
       "    <tr>\n",
       "      <th>2</th>\n",
       "      <td>19</td>\n",
       "      <td>Male</td>\n",
       "      <td>2</td>\n",
       "      <td>0</td>\n",
       "      <td>0.0</td>\n",
       "    </tr>\n",
       "    <tr>\n",
       "      <th>3</th>\n",
       "      <td>25</td>\n",
       "      <td>Male</td>\n",
       "      <td>2</td>\n",
       "      <td>0</td>\n",
       "      <td>0.0</td>\n",
       "    </tr>\n",
       "    <tr>\n",
       "      <th>4</th>\n",
       "      <td>26</td>\n",
       "      <td>Male</td>\n",
       "      <td>1</td>\n",
       "      <td>0</td>\n",
       "      <td>0.0</td>\n",
       "    </tr>\n",
       "  </tbody>\n",
       "</table>\n",
       "</div>"
      ],
      "text/plain": [
       "   user_id  gender  impressions  clicks  ctr\n",
       "0        4  Female            1       0  0.0\n",
       "1        6    Male            1       0  0.0\n",
       "2       19    Male            2       0  0.0\n",
       "3       25    Male            2       0  0.0\n",
       "4       26    Male            1       0  0.0"
      ]
     },
     "execution_count": 15,
     "metadata": {},
     "output_type": "execute_result"
    }
   ],
   "source": [
    "# user_id별 CTR df 생성\n",
    "\n",
    "df2 = df.groupby(['user_id', 'gender'], as_index=False).agg(impressions=('is_click', 'count'), clicks=('is_click','sum'))\n",
    "df2['ctr'] = df2['clicks'] / df2['impressions'] * 100\n",
    "df2.head()"
   ]
  },
  {
   "cell_type": "code",
   "execution_count": 16,
   "id": "0ae471ce",
   "metadata": {},
   "outputs": [
    {
     "data": {
      "image/png": "[encoded data removed]",
      "text/plain": [
       "<Figure size 432x288 with 1 Axes>"
      ]
     },
     "metadata": {},
     "output_type": "display_data"
    }
   ],
   "source": [
    "# 한 번이라도 클릭한 user --> 16.92%\n",
    "\n",
    "User = [len(df2[df2['ctr'] == 0]), len(df2[df2['ctr'] != 0])]\n",
    "plt.pie(User, labels=[0, 1], autopct='%.2f%%')\n",
    "plt.show()"
   ]
  },
  {
   "cell_type": "code",
   "execution_count": 17,
   "id": "19e47ee1",
   "metadata": {},
   "outputs": [
    {
     "data": {
      "text/plain": [
       "7.9"
      ]
     },
     "execution_count": 17,
     "metadata": {},
     "output_type": "execute_result"
    }
   ],
   "source": [
    "# 한 번이라도 클릭한 user의 CTR --> 7.9%로 매우 높음\n",
    "\n",
    "round(df2['ctr'].mean(), 2)"
   ]
  },
  {
   "cell_type": "code",
   "execution_count": 18,
   "id": "fc9d850c",
   "metadata": {
    "scrolled": false
   },
   "outputs": [
    {
     "data": {
      "image/png": "[encoded data removed]",
      "text/plain": [
       "<Figure size 432x288 with 1 Axes>"
      ]
     },
     "metadata": {
      "needs_background": "light"
     },
     "output_type": "display_data"
    }
   ],
   "source": [
    "# 분포 확인\n",
    "\n",
    "sns.histplot(df2.loc[df2['ctr'] != 0, 'ctr'], kde=True)\n",
    "plt.show()"
   ]
  },
  {
   "cell_type": "markdown",
   "id": "a0e2b074",
   "metadata": {},
   "source": [
    "## (2) 어떤 성별이 광고를 더 많이 클릭할까?\n",
    "- 여성 CTR 7.33%, 남성 CTR 7.98%\n",
    "- 독립 2표본 t검정(양측꼬리) 실행, p-value 0.0003 < 0.05로 귀무가설 기각\n",
    "### ⇒ 남성이 광고를 더 많이 클릭함"
   ]
  },
  {
   "cell_type": "code",
   "execution_count": 19,
   "id": "ffe29f7c",
   "metadata": {},
   "outputs": [
    {
     "data": {
      "text/plain": [
       "7.33"
      ]
     },
     "execution_count": 19,
     "metadata": {},
     "output_type": "execute_result"
    }
   ],
   "source": [
    "# 여: 7.33%\n",
    "\n",
    "f = df2.loc[df2['gender'] == 'Female', 'ctr']\n",
    "round(f.mean(), 2)"
   ]
  },
  {
   "cell_type": "code",
   "execution_count": 20,
   "id": "4eeb7ab2",
   "metadata": {},
   "outputs": [
    {
     "data": {
      "text/plain": [
       "7.98"
      ]
     },
     "execution_count": 20,
     "metadata": {},
     "output_type": "execute_result"
    }
   ],
   "source": [
    "# 남: 7.98%\n",
    "    \n",
    "m = df2.loc[df2['gender'] == 'Male', 'ctr']\n",
    "round(m.mean(), 2)"
   ]
  },
  {
   "cell_type": "code",
   "execution_count": 21,
   "id": "57c9f98f",
   "metadata": {},
   "outputs": [
    {
     "data": {
      "text/plain": [
       "0.0004"
      ]
     },
     "execution_count": 21,
     "metadata": {},
     "output_type": "execute_result"
    }
   ],
   "source": [
    "# 독립 t검정 실행\n",
    "# 그룹간 등분산 검정 --> 이분산\n",
    "\n",
    "levene(f, m)[1].round(4)"
   ]
  },
  {
   "cell_type": "code",
   "execution_count": 22,
   "id": "c31d0f58",
   "metadata": {},
   "outputs": [
    {
     "data": {
      "text/plain": [
       "0.0003"
      ]
     },
     "execution_count": 22,
     "metadata": {},
     "output_type": "execute_result"
    }
   ],
   "source": [
    "# 귀무가설 기각 --> 성별에 따른 CTR에 차이가 있다.\n",
    "\n",
    "ttest_ind(f, m, equal_var=False)[1].round(4)"
   ]
  },
  {
   "cell_type": "markdown",
   "id": "6435738a",
   "metadata": {},
   "source": [
    "# 5. campaign CTR 분석\n",
    "\n",
    "## (1) campaign별 노출, 도달, 빈도 및 CTR"
   ]
  },
  {
   "cell_type": "code",
   "execution_count": 23,
   "id": "b98942ed",
   "metadata": {},
   "outputs": [
    {
     "data": {
      "text/html": [
       "<div>\n",
       "<style scoped>\n",
       "    .dataframe tbody tr th:only-of-type {\n",
       "        vertical-align: middle;\n",
       "    }\n",
       "\n",
       "    .dataframe tbody tr th {\n",
       "        vertical-align: top;\n",
       "    }\n",
       "\n",
       "    .dataframe thead th {\n",
       "        text-align: right;\n",
       "    }\n",
       "</style>\n",
       "<table border=\"1\" class=\"dataframe\">\n",
       "  <thead>\n",
       "    <tr style=\"text-align: right;\">\n",
       "      <th></th>\n",
       "      <th>webpage_id</th>\n",
       "      <th>campaign_id</th>\n",
       "      <th>impression</th>\n",
       "    </tr>\n",
       "  </thead>\n",
       "  <tbody>\n",
       "    <tr>\n",
       "      <th>0</th>\n",
       "      <td>1734</td>\n",
       "      <td>82320</td>\n",
       "      <td>26016</td>\n",
       "    </tr>\n",
       "    <tr>\n",
       "      <th>1</th>\n",
       "      <td>6970</td>\n",
       "      <td>98970</td>\n",
       "      <td>33904</td>\n",
       "    </tr>\n",
       "    <tr>\n",
       "      <th>2</th>\n",
       "      <td>11085</td>\n",
       "      <td>105960</td>\n",
       "      <td>24873</td>\n",
       "    </tr>\n",
       "    <tr>\n",
       "      <th>3</th>\n",
       "      <td>13787</td>\n",
       "      <td>359520</td>\n",
       "      <td>104544</td>\n",
       "    </tr>\n",
       "    <tr>\n",
       "      <th>4</th>\n",
       "      <td>13787</td>\n",
       "      <td>360936</td>\n",
       "      <td>50048</td>\n",
       "    </tr>\n",
       "    <tr>\n",
       "      <th>5</th>\n",
       "      <td>28529</td>\n",
       "      <td>118601</td>\n",
       "      <td>34822</td>\n",
       "    </tr>\n",
       "    <tr>\n",
       "      <th>6</th>\n",
       "      <td>45962</td>\n",
       "      <td>414149</td>\n",
       "      <td>28056</td>\n",
       "    </tr>\n",
       "    <tr>\n",
       "      <th>7</th>\n",
       "      <td>51181</td>\n",
       "      <td>396664</td>\n",
       "      <td>23241</td>\n",
       "    </tr>\n",
       "    <tr>\n",
       "      <th>8</th>\n",
       "      <td>53587</td>\n",
       "      <td>404347</td>\n",
       "      <td>27376</td>\n",
       "    </tr>\n",
       "    <tr>\n",
       "      <th>9</th>\n",
       "      <td>60305</td>\n",
       "      <td>405490</td>\n",
       "      <td>92168</td>\n",
       "    </tr>\n",
       "  </tbody>\n",
       "</table>\n",
       "</div>"
      ],
      "text/plain": [
       "   webpage_id  campaign_id  impression\n",
       "0        1734        82320       26016\n",
       "1        6970        98970       33904\n",
       "2       11085       105960       24873\n",
       "3       13787       359520      104544\n",
       "4       13787       360936       50048\n",
       "5       28529       118601       34822\n",
       "6       45962       414149       28056\n",
       "7       51181       396664       23241\n",
       "8       53587       404347       27376\n",
       "9       60305       405490       92168"
      ]
     },
     "execution_count": 23,
     "metadata": {},
     "output_type": "execute_result"
    }
   ],
   "source": [
    "# 노출(impression) --> 광고가 잠재고객에게 몇 번 보여졌는가?\n",
    "\n",
    "Impression = df.groupby(['webpage_id','campaign_id'])['user_id'].count().reset_index()\n",
    "Impression = Impression.rename(columns={'user_id': 'impression'})\n",
    "Impression"
   ]
  },
  {
   "cell_type": "code",
   "execution_count": 24,
   "id": "e9127161",
   "metadata": {},
   "outputs": [
    {
     "data": {
      "text/html": [
       "<div>\n",
       "<style scoped>\n",
       "    .dataframe tbody tr th:only-of-type {\n",
       "        vertical-align: middle;\n",
       "    }\n",
       "\n",
       "    .dataframe tbody tr th {\n",
       "        vertical-align: top;\n",
       "    }\n",
       "\n",
       "    .dataframe thead th {\n",
       "        text-align: right;\n",
       "    }\n",
       "</style>\n",
       "<table border=\"1\" class=\"dataframe\">\n",
       "  <thead>\n",
       "    <tr style=\"text-align: right;\">\n",
       "      <th></th>\n",
       "      <th>campaign_id</th>\n",
       "      <th>reach</th>\n",
       "    </tr>\n",
       "  </thead>\n",
       "  <tbody>\n",
       "    <tr>\n",
       "      <th>0</th>\n",
       "      <td>82320</td>\n",
       "      <td>12351</td>\n",
       "    </tr>\n",
       "    <tr>\n",
       "      <th>1</th>\n",
       "      <td>98970</td>\n",
       "      <td>21066</td>\n",
       "    </tr>\n",
       "    <tr>\n",
       "      <th>2</th>\n",
       "      <td>105960</td>\n",
       "      <td>13604</td>\n",
       "    </tr>\n",
       "    <tr>\n",
       "      <th>3</th>\n",
       "      <td>118601</td>\n",
       "      <td>14821</td>\n",
       "    </tr>\n",
       "    <tr>\n",
       "      <th>4</th>\n",
       "      <td>359520</td>\n",
       "      <td>47519</td>\n",
       "    </tr>\n",
       "    <tr>\n",
       "      <th>5</th>\n",
       "      <td>360936</td>\n",
       "      <td>29038</td>\n",
       "    </tr>\n",
       "    <tr>\n",
       "      <th>6</th>\n",
       "      <td>396664</td>\n",
       "      <td>14245</td>\n",
       "    </tr>\n",
       "    <tr>\n",
       "      <th>7</th>\n",
       "      <td>404347</td>\n",
       "      <td>15359</td>\n",
       "    </tr>\n",
       "    <tr>\n",
       "      <th>8</th>\n",
       "      <td>405490</td>\n",
       "      <td>55399</td>\n",
       "    </tr>\n",
       "    <tr>\n",
       "      <th>9</th>\n",
       "      <td>414149</td>\n",
       "      <td>13272</td>\n",
       "    </tr>\n",
       "  </tbody>\n",
       "</table>\n",
       "</div>"
      ],
      "text/plain": [
       "   campaign_id  reach\n",
       "0        82320  12351\n",
       "1        98970  21066\n",
       "2       105960  13604\n",
       "3       118601  14821\n",
       "4       359520  47519\n",
       "5       360936  29038\n",
       "6       396664  14245\n",
       "7       404347  15359\n",
       "8       405490  55399\n",
       "9       414149  13272"
      ]
     },
     "execution_count": 24,
     "metadata": {},
     "output_type": "execute_result"
    }
   ],
   "source": [
    "# 도달(reach) --> 광고가 몇 명의 잠재고객에게 보여졌는가?\n",
    "\n",
    "Reach = df.groupby('campaign_id')['user_id'].nunique().reset_index()\n",
    "Reach = Reach.rename(columns={'user_id': 'reach'})\n",
    "Reach"
   ]
  },
  {
   "cell_type": "code",
   "execution_count": 25,
   "id": "71ae460a",
   "metadata": {
    "scrolled": true
   },
   "outputs": [
    {
     "data": {
      "text/html": [
       "<div>\n",
       "<style scoped>\n",
       "    .dataframe tbody tr th:only-of-type {\n",
       "        vertical-align: middle;\n",
       "    }\n",
       "\n",
       "    .dataframe tbody tr th {\n",
       "        vertical-align: top;\n",
       "    }\n",
       "\n",
       "    .dataframe thead th {\n",
       "        text-align: right;\n",
       "    }\n",
       "</style>\n",
       "<table border=\"1\" class=\"dataframe\">\n",
       "  <thead>\n",
       "    <tr style=\"text-align: right;\">\n",
       "      <th></th>\n",
       "      <th>webpage_id</th>\n",
       "      <th>campaign_id</th>\n",
       "      <th>impression</th>\n",
       "      <th>reach</th>\n",
       "      <th>frequency</th>\n",
       "    </tr>\n",
       "  </thead>\n",
       "  <tbody>\n",
       "    <tr>\n",
       "      <th>0</th>\n",
       "      <td>1734</td>\n",
       "      <td>82320</td>\n",
       "      <td>26016</td>\n",
       "      <td>12351</td>\n",
       "      <td>2.11</td>\n",
       "    </tr>\n",
       "    <tr>\n",
       "      <th>1</th>\n",
       "      <td>6970</td>\n",
       "      <td>98970</td>\n",
       "      <td>33904</td>\n",
       "      <td>21066</td>\n",
       "      <td>1.61</td>\n",
       "    </tr>\n",
       "    <tr>\n",
       "      <th>2</th>\n",
       "      <td>11085</td>\n",
       "      <td>105960</td>\n",
       "      <td>24873</td>\n",
       "      <td>13604</td>\n",
       "      <td>1.83</td>\n",
       "    </tr>\n",
       "    <tr>\n",
       "      <th>3</th>\n",
       "      <td>13787</td>\n",
       "      <td>359520</td>\n",
       "      <td>104544</td>\n",
       "      <td>47519</td>\n",
       "      <td>2.20</td>\n",
       "    </tr>\n",
       "    <tr>\n",
       "      <th>4</th>\n",
       "      <td>13787</td>\n",
       "      <td>360936</td>\n",
       "      <td>50048</td>\n",
       "      <td>29038</td>\n",
       "      <td>1.72</td>\n",
       "    </tr>\n",
       "    <tr>\n",
       "      <th>5</th>\n",
       "      <td>28529</td>\n",
       "      <td>118601</td>\n",
       "      <td>34822</td>\n",
       "      <td>14821</td>\n",
       "      <td>2.35</td>\n",
       "    </tr>\n",
       "    <tr>\n",
       "      <th>6</th>\n",
       "      <td>45962</td>\n",
       "      <td>414149</td>\n",
       "      <td>28056</td>\n",
       "      <td>13272</td>\n",
       "      <td>2.11</td>\n",
       "    </tr>\n",
       "    <tr>\n",
       "      <th>7</th>\n",
       "      <td>51181</td>\n",
       "      <td>396664</td>\n",
       "      <td>23241</td>\n",
       "      <td>14245</td>\n",
       "      <td>1.63</td>\n",
       "    </tr>\n",
       "    <tr>\n",
       "      <th>8</th>\n",
       "      <td>53587</td>\n",
       "      <td>404347</td>\n",
       "      <td>27376</td>\n",
       "      <td>15359</td>\n",
       "      <td>1.78</td>\n",
       "    </tr>\n",
       "    <tr>\n",
       "      <th>9</th>\n",
       "      <td>60305</td>\n",
       "      <td>405490</td>\n",
       "      <td>92168</td>\n",
       "      <td>55399</td>\n",
       "      <td>1.66</td>\n",
       "    </tr>\n",
       "  </tbody>\n",
       "</table>\n",
       "</div>"
      ],
      "text/plain": [
       "   webpage_id  campaign_id  impression  reach  frequency\n",
       "0        1734        82320       26016  12351       2.11\n",
       "1        6970        98970       33904  21066       1.61\n",
       "2       11085       105960       24873  13604       1.83\n",
       "3       13787       359520      104544  47519       2.20\n",
       "4       13787       360936       50048  29038       1.72\n",
       "5       28529       118601       34822  14821       2.35\n",
       "6       45962       414149       28056  13272       2.11\n",
       "7       51181       396664       23241  14245       1.63\n",
       "8       53587       404347       27376  15359       1.78\n",
       "9       60305       405490       92168  55399       1.66"
      ]
     },
     "execution_count": 25,
     "metadata": {},
     "output_type": "execute_result"
    }
   ],
   "source": [
    "# 빈도(frequency) --> 노출 / 도달. 1인당 노출 횟수. 한 고객에게 같은 광고가 보이는 횟수.\n",
    "\n",
    "Campaign = pd.merge(left=Impression, right=Reach, on='campaign_id')\n",
    "Campaign['frequency'] = (Campaign['impression'] / Campaign['reach']).round(2)\n",
    "Campaign"
   ]
  },
  {
   "cell_type": "code",
   "execution_count": 26,
   "id": "8f0c30c4",
   "metadata": {},
   "outputs": [
    {
     "data": {
      "text/html": [
       "<div>\n",
       "<style scoped>\n",
       "    .dataframe tbody tr th:only-of-type {\n",
       "        vertical-align: middle;\n",
       "    }\n",
       "\n",
       "    .dataframe tbody tr th {\n",
       "        vertical-align: top;\n",
       "    }\n",
       "\n",
       "    .dataframe thead th {\n",
       "        text-align: right;\n",
       "    }\n",
       "</style>\n",
       "<table border=\"1\" class=\"dataframe\">\n",
       "  <thead>\n",
       "    <tr style=\"text-align: right;\">\n",
       "      <th></th>\n",
       "      <th>campaign_id</th>\n",
       "      <th>ctr</th>\n",
       "    </tr>\n",
       "  </thead>\n",
       "  <tbody>\n",
       "    <tr>\n",
       "      <th>0</th>\n",
       "      <td>82320</td>\n",
       "      <td>6.45</td>\n",
       "    </tr>\n",
       "    <tr>\n",
       "      <th>1</th>\n",
       "      <td>98970</td>\n",
       "      <td>7.67</td>\n",
       "    </tr>\n",
       "    <tr>\n",
       "      <th>2</th>\n",
       "      <td>105960</td>\n",
       "      <td>6.81</td>\n",
       "    </tr>\n",
       "    <tr>\n",
       "      <th>3</th>\n",
       "      <td>118601</td>\n",
       "      <td>5.37</td>\n",
       "    </tr>\n",
       "    <tr>\n",
       "      <th>4</th>\n",
       "      <td>359520</td>\n",
       "      <td>5.86</td>\n",
       "    </tr>\n",
       "    <tr>\n",
       "      <th>5</th>\n",
       "      <td>360936</td>\n",
       "      <td>4.51</td>\n",
       "    </tr>\n",
       "    <tr>\n",
       "      <th>6</th>\n",
       "      <td>396664</td>\n",
       "      <td>7.21</td>\n",
       "    </tr>\n",
       "    <tr>\n",
       "      <th>7</th>\n",
       "      <td>404347</td>\n",
       "      <td>7.78</td>\n",
       "    </tr>\n",
       "    <tr>\n",
       "      <th>8</th>\n",
       "      <td>405490</td>\n",
       "      <td>9.09</td>\n",
       "    </tr>\n",
       "    <tr>\n",
       "      <th>9</th>\n",
       "      <td>414149</td>\n",
       "      <td>5.86</td>\n",
       "    </tr>\n",
       "  </tbody>\n",
       "</table>\n",
       "</div>"
      ],
      "text/plain": [
       "   campaign_id   ctr\n",
       "0        82320  6.45\n",
       "1        98970  7.67\n",
       "2       105960  6.81\n",
       "3       118601  5.37\n",
       "4       359520  5.86\n",
       "5       360936  4.51\n",
       "6       396664  7.21\n",
       "7       404347  7.78\n",
       "8       405490  9.09\n",
       "9       414149  5.86"
      ]
     },
     "execution_count": 26,
     "metadata": {},
     "output_type": "execute_result"
    }
   ],
   "source": [
    "# CTR\n",
    "\n",
    "CTR = (df.groupby('campaign_id')['is_click'].sum() / df.groupby('campaign_id')['is_click'].count() * 100).round(2).reset_index()\n",
    "CTR = CTR.rename(columns={'is_click': 'ctr'})\n",
    "CTR"
   ]
  },
  {
   "cell_type": "code",
   "execution_count": 27,
   "id": "f719d0b3",
   "metadata": {
    "scrolled": true
   },
   "outputs": [
    {
     "data": {
      "text/html": [
       "<div>\n",
       "<style scoped>\n",
       "    .dataframe tbody tr th:only-of-type {\n",
       "        vertical-align: middle;\n",
       "    }\n",
       "\n",
       "    .dataframe tbody tr th {\n",
       "        vertical-align: top;\n",
       "    }\n",
       "\n",
       "    .dataframe thead th {\n",
       "        text-align: right;\n",
       "    }\n",
       "</style>\n",
       "<table border=\"1\" class=\"dataframe\">\n",
       "  <thead>\n",
       "    <tr style=\"text-align: right;\">\n",
       "      <th></th>\n",
       "      <th>webpage_id</th>\n",
       "      <th>campaign_id</th>\n",
       "      <th>impression</th>\n",
       "      <th>reach</th>\n",
       "      <th>frequency</th>\n",
       "      <th>ctr</th>\n",
       "    </tr>\n",
       "  </thead>\n",
       "  <tbody>\n",
       "    <tr>\n",
       "      <th>0</th>\n",
       "      <td>1734</td>\n",
       "      <td>82320</td>\n",
       "      <td>26016</td>\n",
       "      <td>12351</td>\n",
       "      <td>2.11</td>\n",
       "      <td>6.45</td>\n",
       "    </tr>\n",
       "    <tr>\n",
       "      <th>1</th>\n",
       "      <td>6970</td>\n",
       "      <td>98970</td>\n",
       "      <td>33904</td>\n",
       "      <td>21066</td>\n",
       "      <td>1.61</td>\n",
       "      <td>7.67</td>\n",
       "    </tr>\n",
       "    <tr>\n",
       "      <th>2</th>\n",
       "      <td>11085</td>\n",
       "      <td>105960</td>\n",
       "      <td>24873</td>\n",
       "      <td>13604</td>\n",
       "      <td>1.83</td>\n",
       "      <td>6.81</td>\n",
       "    </tr>\n",
       "    <tr>\n",
       "      <th>3</th>\n",
       "      <td>13787</td>\n",
       "      <td>359520</td>\n",
       "      <td>104544</td>\n",
       "      <td>47519</td>\n",
       "      <td>2.20</td>\n",
       "      <td>5.86</td>\n",
       "    </tr>\n",
       "    <tr>\n",
       "      <th>4</th>\n",
       "      <td>13787</td>\n",
       "      <td>360936</td>\n",
       "      <td>50048</td>\n",
       "      <td>29038</td>\n",
       "      <td>1.72</td>\n",
       "      <td>4.51</td>\n",
       "    </tr>\n",
       "    <tr>\n",
       "      <th>5</th>\n",
       "      <td>28529</td>\n",
       "      <td>118601</td>\n",
       "      <td>34822</td>\n",
       "      <td>14821</td>\n",
       "      <td>2.35</td>\n",
       "      <td>5.37</td>\n",
       "    </tr>\n",
       "    <tr>\n",
       "      <th>6</th>\n",
       "      <td>45962</td>\n",
       "      <td>414149</td>\n",
       "      <td>28056</td>\n",
       "      <td>13272</td>\n",
       "      <td>2.11</td>\n",
       "      <td>5.86</td>\n",
       "    </tr>\n",
       "    <tr>\n",
       "      <th>7</th>\n",
       "      <td>51181</td>\n",
       "      <td>396664</td>\n",
       "      <td>23241</td>\n",
       "      <td>14245</td>\n",
       "      <td>1.63</td>\n",
       "      <td>7.21</td>\n",
       "    </tr>\n",
       "    <tr>\n",
       "      <th>8</th>\n",
       "      <td>53587</td>\n",
       "      <td>404347</td>\n",
       "      <td>27376</td>\n",
       "      <td>15359</td>\n",
       "      <td>1.78</td>\n",
       "      <td>7.78</td>\n",
       "    </tr>\n",
       "    <tr>\n",
       "      <th>9</th>\n",
       "      <td>60305</td>\n",
       "      <td>405490</td>\n",
       "      <td>92168</td>\n",
       "      <td>55399</td>\n",
       "      <td>1.66</td>\n",
       "      <td>9.09</td>\n",
       "    </tr>\n",
       "  </tbody>\n",
       "</table>\n",
       "</div>"
      ],
      "text/plain": [
       "   webpage_id  campaign_id  impression  reach  frequency   ctr\n",
       "0        1734        82320       26016  12351       2.11  6.45\n",
       "1        6970        98970       33904  21066       1.61  7.67\n",
       "2       11085       105960       24873  13604       1.83  6.81\n",
       "3       13787       359520      104544  47519       2.20  5.86\n",
       "4       13787       360936       50048  29038       1.72  4.51\n",
       "5       28529       118601       34822  14821       2.35  5.37\n",
       "6       45962       414149       28056  13272       2.11  5.86\n",
       "7       51181       396664       23241  14245       1.63  7.21\n",
       "8       53587       404347       27376  15359       1.78  7.78\n",
       "9       60305       405490       92168  55399       1.66  9.09"
      ]
     },
     "execution_count": 27,
     "metadata": {},
     "output_type": "execute_result"
    }
   ],
   "source": [
    "# 최종 데이터 확인\n",
    "\n",
    "Campaign = pd.merge(left=Campaign, right=CTR, on='campaign_id')\n",
    "Campaign"
   ]
  },
  {
   "cell_type": "code",
   "execution_count": 28,
   "id": "c0291d59",
   "metadata": {
    "scrolled": true
   },
   "outputs": [
    {
     "data": {
      "image/png": "[encoded data removed]",
      "text/plain": [
       "<Figure size 576x360 with 1 Axes>"
      ]
     },
     "metadata": {
      "needs_background": "light"
     },
     "output_type": "display_data"
    }
   ],
   "source": [
    "plt.figure(figsize=(8, 5))\n",
    "sns.barplot(x=Campaign['campaign_id'], y=Campaign['ctr'])\n",
    "plt.show()"
   ]
  },
  {
   "cell_type": "markdown",
   "id": "84452301",
   "metadata": {},
   "source": [
    "## (2) 같은 webpage에서 진행한 2개의 campaign 중 더 효과적인 campaign은 무엇일까?\n",
    "- webpage 13787에서 진행한 2개의 campaign 359520(CTR 6.1%), 360963(CTR 5.0%)\n",
    "- 독립 2표본 t검정(양측꼬리) 실행, p-value 0.0000 < 0.05로 귀무가설 기각\n",
    "### ⇒ campaign 359520이 더 효과적임"
   ]
  },
  {
   "cell_type": "code",
   "execution_count": 29,
   "id": "a3979976",
   "metadata": {},
   "outputs": [
    {
     "data": {
      "text/html": [
       "<div>\n",
       "<style scoped>\n",
       "    .dataframe tbody tr th:only-of-type {\n",
       "        vertical-align: middle;\n",
       "    }\n",
       "\n",
       "    .dataframe tbody tr th {\n",
       "        vertical-align: top;\n",
       "    }\n",
       "\n",
       "    .dataframe thead th {\n",
       "        text-align: right;\n",
       "    }\n",
       "</style>\n",
       "<table border=\"1\" class=\"dataframe\">\n",
       "  <thead>\n",
       "    <tr style=\"text-align: right;\">\n",
       "      <th></th>\n",
       "      <th>user_id</th>\n",
       "      <th>webpage_id</th>\n",
       "      <th>campaign_id</th>\n",
       "      <th>impressions</th>\n",
       "      <th>clicks</th>\n",
       "      <th>ctr</th>\n",
       "    </tr>\n",
       "  </thead>\n",
       "  <tbody>\n",
       "    <tr>\n",
       "      <th>0</th>\n",
       "      <td>25</td>\n",
       "      <td>13787</td>\n",
       "      <td>359520</td>\n",
       "      <td>1</td>\n",
       "      <td>0</td>\n",
       "      <td>0.0</td>\n",
       "    </tr>\n",
       "    <tr>\n",
       "      <th>1</th>\n",
       "      <td>25</td>\n",
       "      <td>13787</td>\n",
       "      <td>360936</td>\n",
       "      <td>1</td>\n",
       "      <td>0</td>\n",
       "      <td>0.0</td>\n",
       "    </tr>\n",
       "    <tr>\n",
       "      <th>2</th>\n",
       "      <td>30</td>\n",
       "      <td>13787</td>\n",
       "      <td>359520</td>\n",
       "      <td>1</td>\n",
       "      <td>0</td>\n",
       "      <td>0.0</td>\n",
       "    </tr>\n",
       "    <tr>\n",
       "      <th>3</th>\n",
       "      <td>33</td>\n",
       "      <td>13787</td>\n",
       "      <td>359520</td>\n",
       "      <td>2</td>\n",
       "      <td>0</td>\n",
       "      <td>0.0</td>\n",
       "    </tr>\n",
       "    <tr>\n",
       "      <th>4</th>\n",
       "      <td>37</td>\n",
       "      <td>13787</td>\n",
       "      <td>359520</td>\n",
       "      <td>4</td>\n",
       "      <td>0</td>\n",
       "      <td>0.0</td>\n",
       "    </tr>\n",
       "  </tbody>\n",
       "</table>\n",
       "</div>"
      ],
      "text/plain": [
       "   user_id  webpage_id  campaign_id  impressions  clicks  ctr\n",
       "0       25       13787       359520            1       0  0.0\n",
       "1       25       13787       360936            1       0  0.0\n",
       "2       30       13787       359520            1       0  0.0\n",
       "3       33       13787       359520            2       0  0.0\n",
       "4       37       13787       359520            4       0  0.0"
      ]
     },
     "execution_count": 29,
     "metadata": {},
     "output_type": "execute_result"
    }
   ],
   "source": [
    "# campaign_id별 user별 CTR df 생성\n",
    "\n",
    "df3 = df[['user_id', 'webpage_id', 'campaign_id', 'is_click']]\n",
    "df3 = df3[df3['webpage_id'] == 13787]\n",
    "df3 = df3.groupby(['user_id', 'webpage_id', 'campaign_id'], as_index=False).agg(impressions=('is_click', 'count'), clicks=('is_click','sum'))\n",
    "df3['ctr'] = df3['clicks'] / df3['impressions'] * 100\n",
    "df3.head()"
   ]
  },
  {
   "cell_type": "code",
   "execution_count": 30,
   "id": "e68113e2",
   "metadata": {},
   "outputs": [
    {
     "data": {
      "text/plain": [
       "6.1"
      ]
     },
     "execution_count": 30,
     "metadata": {},
     "output_type": "execute_result"
    }
   ],
   "source": [
    "# campaign 359520 --> 6.1%\n",
    "\n",
    "a = df3.loc[df3['campaign_id'] == 359520, 'ctr']\n",
    "round(a.mean(), 2)"
   ]
  },
  {
   "cell_type": "code",
   "execution_count": 31,
   "id": "da9d68ef",
   "metadata": {},
   "outputs": [
    {
     "data": {
      "text/plain": [
       "5.0"
      ]
     },
     "execution_count": 31,
     "metadata": {},
     "output_type": "execute_result"
    }
   ],
   "source": [
    "# campaign 360936 --> 5.0%\n",
    "\n",
    "b = df3.loc[df3['campaign_id'] == 360936, 'ctr']\n",
    "round(b.mean(), 2)"
   ]
  },
  {
   "cell_type": "code",
   "execution_count": 32,
   "id": "2afd1562",
   "metadata": {},
   "outputs": [
    {
     "data": {
      "text/plain": [
       "0.0"
      ]
     },
     "execution_count": 32,
     "metadata": {},
     "output_type": "execute_result"
    }
   ],
   "source": [
    "# 독립 t검정 실행\n",
    "# 그룹간 등분산 검정 --> 이분산\n",
    "\n",
    "levene(a, b)[1].round(4)"
   ]
  },
  {
   "cell_type": "code",
   "execution_count": 33,
   "id": "fc0cfe99",
   "metadata": {},
   "outputs": [
    {
     "data": {
      "text/plain": [
       "0.0"
      ]
     },
     "execution_count": 33,
     "metadata": {},
     "output_type": "execute_result"
    }
   ],
   "source": [
    "# 귀무가설 기각 --> campaign에 따른 user별 CTR에 차이가 있다.\n",
    "\n",
    "ttest_ind(a, b, equal_var=False)[1].round(4)"
   ]
  },
  {
   "cell_type": "markdown",
   "id": "b81ae911",
   "metadata": {},
   "source": [
    "# 6. CTR Prediction"
   ]
  },
  {
   "cell_type": "code",
   "execution_count": 34,
   "id": "36d39369",
   "metadata": {},
   "outputs": [
    {
     "data": {
      "image/png": "[encoded data removed]",
      "text/plain": [
       "<Figure size 1152x1440 with 8 Axes>"
      ]
     },
     "metadata": {
      "needs_background": "light"
     },
     "output_type": "display_data"
    }
   ],
   "source": [
    "# feature EDA\n",
    "\n",
    "features = df.columns[1:-1]\n",
    "plt.figure(figsize=(16, 20))\n",
    "\n",
    "for idx, feature in enumerate(features):\n",
    "    plt.subplot(4, 2, idx+1)\n",
    "    plt.title(feature)\n",
    "    sns.countplot(x=feature, data=df)\n",
    "    plt.plot()"
   ]
  }
 ],
 "metadata": {
  "kernelspec": {
   "display_name": "Python 3 (ipykernel)",
   "language": "python",
   "name": "python3"
  },
  "language_info": {
   "codemirror_mode": {
    "name": "ipython",
    "version": 3
   },
   "file_extension": ".py",
   "mimetype": "text/x-python",
   "name": "python",
   "nbconvert_exporter": "python",
   "pygments_lexer": "ipython3",
   "version": "3.9.13"
  }
 },
 "nbformat": 4,
 "nbformat_minor": 5
}
